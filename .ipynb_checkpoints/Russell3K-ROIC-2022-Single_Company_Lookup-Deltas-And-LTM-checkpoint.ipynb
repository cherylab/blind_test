{
 "cells": [
  {
   "cell_type": "code",
   "execution_count": 1,
   "metadata": {},
   "outputs": [],
   "source": [
    "# importing modules\n",
    "import numpy as np\n",
    "import pandas as pd"
   ]
  },
  {
   "cell_type": "code",
   "execution_count": 2,
   "metadata": {},
   "outputs": [],
   "source": [
    "import time\n",
    "import plotly as plt\n",
    "from plotly.subplots import make_subplots\n",
    "import plotly.graph_objects as go\n",
    "import plotly.express as px\n",
    "#import plot_settings\n",
    "import math"
   ]
  },
  {
   "cell_type": "code",
   "execution_count": 3,
   "metadata": {},
   "outputs": [],
   "source": [
    "np.set_printoptions(threshold=np.inf)\n",
    "np.random.seed(42)"
   ]
  },
  {
   "cell_type": "markdown",
   "metadata": {},
   "source": [
    "[Jump to Final Output](#Final_Output)<br>\n",
    "[Jump to List of Companies](#List)<br>\n",
    "[R&D Multiple Companies](#R&D)<br>\n",
    "[Plotting](#Plotting)"
   ]
  },
  {
   "cell_type": "code",
   "execution_count": 4,
   "metadata": {},
   "outputs": [],
   "source": [
    "from IPython.core.interactiveshell import InteractiveShell\n",
    "InteractiveShell.ast_node_interactivity = \"all\""
   ]
  },
  {
   "cell_type": "code",
   "execution_count": 5,
   "metadata": {},
   "outputs": [],
   "source": [
    "working_dir = '/Users/evan/Library/Mobile Documents/com~apple~CloudDocs/Data2021/'"
   ]
  },
  {
   "cell_type": "code",
   "execution_count": 6,
   "metadata": {},
   "outputs": [],
   "source": [
    "roic_import = pd.read_csv('{}{}'\\\n",
    ".format(working_dir,'New_ROIC_Historical--IWV-2016-2020-acq-nr.csv'), low_memory=False,\n",
    "na_values=['#VALUE!', '#DIV/0!'])"
   ]
  },
  {
   "cell_type": "code",
   "execution_count": 7,
   "metadata": {},
   "outputs": [],
   "source": [
    "# roic_import.columns"
   ]
  },
  {
   "cell_type": "code",
   "execution_count": 8,
   "metadata": {},
   "outputs": [],
   "source": [
    "# roic_import = roic_import[roic_import['StartDate'] == '12/31/2014']"
   ]
  },
  {
   "cell_type": "code",
   "execution_count": 9,
   "metadata": {},
   "outputs": [],
   "source": [
    "roic_import['Instance'] = roic_import['Symbol'].astype(str) + '_' + roic_import['StartDate'].astype(str)"
   ]
  },
  {
   "cell_type": "code",
   "execution_count": 10,
   "metadata": {},
   "outputs": [],
   "source": [
    "roic_import = roic_import.set_index('Instance')"
   ]
  },
  {
   "cell_type": "code",
   "execution_count": 11,
   "metadata": {},
   "outputs": [],
   "source": [
    "#roic_import.columns.values"
   ]
  },
  {
   "cell_type": "code",
   "execution_count": 12,
   "metadata": {},
   "outputs": [
    {
     "data": {
      "text/html": [
       "<div>\n",
       "<style scoped>\n",
       "    .dataframe tbody tr th:only-of-type {\n",
       "        vertical-align: middle;\n",
       "    }\n",
       "\n",
       "    .dataframe tbody tr th {\n",
       "        vertical-align: top;\n",
       "    }\n",
       "\n",
       "    .dataframe thead th {\n",
       "        text-align: right;\n",
       "    }\n",
       "</style>\n",
       "<table border=\"1\" class=\"dataframe\">\n",
       "  <thead>\n",
       "    <tr style=\"text-align: right;\">\n",
       "      <th></th>\n",
       "      <th>Symbol</th>\n",
       "      <th>Company_Name</th>\n",
       "      <th>StartDate</th>\n",
       "      <th>EndDate</th>\n",
       "      <th>AdjEndDate</th>\n",
       "      <th>Total_Return</th>\n",
       "      <th>Price</th>\n",
       "      <th>MarketCap</th>\n",
       "      <th>EnterpriseValue</th>\n",
       "      <th>Sales</th>\n",
       "      <th>...</th>\n",
       "      <th>ShareholderYield1</th>\n",
       "      <th>ShareholderYield2</th>\n",
       "      <th>Sector</th>\n",
       "      <th>Cash.1</th>\n",
       "      <th>Investments</th>\n",
       "      <th>Cash+LT</th>\n",
       "      <th>ST_Debt</th>\n",
       "      <th>LT_Debt</th>\n",
       "      <th>Net_Cash</th>\n",
       "      <th>R_D</th>\n",
       "    </tr>\n",
       "    <tr>\n",
       "      <th>Instance</th>\n",
       "      <th></th>\n",
       "      <th></th>\n",
       "      <th></th>\n",
       "      <th></th>\n",
       "      <th></th>\n",
       "      <th></th>\n",
       "      <th></th>\n",
       "      <th></th>\n",
       "      <th></th>\n",
       "      <th></th>\n",
       "      <th></th>\n",
       "      <th></th>\n",
       "      <th></th>\n",
       "      <th></th>\n",
       "      <th></th>\n",
       "      <th></th>\n",
       "      <th></th>\n",
       "      <th></th>\n",
       "      <th></th>\n",
       "      <th></th>\n",
       "      <th></th>\n",
       "    </tr>\n",
       "  </thead>\n",
       "  <tbody>\n",
       "    <tr>\n",
       "      <th>AAPL-US_12/31/2019</th>\n",
       "      <td>AAPL-US</td>\n",
       "      <td>Apple Inc.</td>\n",
       "      <td>12/31/2019</td>\n",
       "      <td>12/31/2020</td>\n",
       "      <td>12/31/2020</td>\n",
       "      <td>81.845730</td>\n",
       "      <td>73.4125</td>\n",
       "      <td>1287643.1</td>\n",
       "      <td>1295110.1</td>\n",
       "      <td>259968.0</td>\n",
       "      <td>...</td>\n",
       "      <td>0.080379</td>\n",
       "      <td>0.061563</td>\n",
       "      <td>Information Technology</td>\n",
       "      <td>90580.00</td>\n",
       "      <td>132366.0</td>\n",
       "      <td>222946.00</td>\n",
       "      <td>20973.0</td>\n",
       "      <td>89983.25</td>\n",
       "      <td>111989.75</td>\n",
       "      <td>16217.0</td>\n",
       "    </tr>\n",
       "    <tr>\n",
       "      <th>MSFT-US_12/31/2019</th>\n",
       "      <td>MSFT-US</td>\n",
       "      <td>Microsoft Corporation</td>\n",
       "      <td>12/31/2019</td>\n",
       "      <td>12/31/2020</td>\n",
       "      <td>12/31/2020</td>\n",
       "      <td>42.365253</td>\n",
       "      <td>157.7000</td>\n",
       "      <td>1200254.6</td>\n",
       "      <td>1149592.6</td>\n",
       "      <td>129565.0</td>\n",
       "      <td>...</td>\n",
       "      <td>0.018010</td>\n",
       "      <td>0.028233</td>\n",
       "      <td>Information Technology</td>\n",
       "      <td>132433.75</td>\n",
       "      <td>2502.5</td>\n",
       "      <td>134936.25</td>\n",
       "      <td>6440.0</td>\n",
       "      <td>79623.75</td>\n",
       "      <td>48872.50</td>\n",
       "      <td>17464.0</td>\n",
       "    </tr>\n",
       "  </tbody>\n",
       "</table>\n",
       "<p>2 rows × 68 columns</p>\n",
       "</div>"
      ],
      "text/plain": [
       "                     Symbol           Company_Name   StartDate     EndDate  \\\n",
       "Instance                                                                     \n",
       "AAPL-US_12/31/2019  AAPL-US             Apple Inc.  12/31/2019  12/31/2020   \n",
       "MSFT-US_12/31/2019  MSFT-US  Microsoft Corporation  12/31/2019  12/31/2020   \n",
       "\n",
       "                    AdjEndDate  Total_Return     Price  MarketCap  \\\n",
       "Instance                                                            \n",
       "AAPL-US_12/31/2019  12/31/2020     81.845730   73.4125  1287643.1   \n",
       "MSFT-US_12/31/2019  12/31/2020     42.365253  157.7000  1200254.6   \n",
       "\n",
       "                    EnterpriseValue     Sales  ...  ShareholderYield1  \\\n",
       "Instance                                       ...                      \n",
       "AAPL-US_12/31/2019        1295110.1  259968.0  ...           0.080379   \n",
       "MSFT-US_12/31/2019        1149592.6  129565.0  ...           0.018010   \n",
       "\n",
       "                    ShareholderYield2                  Sector     Cash.1  \\\n",
       "Instance                                                                   \n",
       "AAPL-US_12/31/2019           0.061563  Information Technology   90580.00   \n",
       "MSFT-US_12/31/2019           0.028233  Information Technology  132433.75   \n",
       "\n",
       "                    Investments    Cash+LT  ST_Debt   LT_Debt   Net_Cash  \\\n",
       "Instance                                                                   \n",
       "AAPL-US_12/31/2019     132366.0  222946.00  20973.0  89983.25  111989.75   \n",
       "MSFT-US_12/31/2019       2502.5  134936.25   6440.0  79623.75   48872.50   \n",
       "\n",
       "                        R_D  \n",
       "Instance                     \n",
       "AAPL-US_12/31/2019  16217.0  \n",
       "MSFT-US_12/31/2019  17464.0  \n",
       "\n",
       "[2 rows x 68 columns]"
      ]
     },
     "execution_count": 12,
     "metadata": {},
     "output_type": "execute_result"
    }
   ],
   "source": [
    "roic_import.head(2)"
   ]
  },
  {
   "cell_type": "code",
   "execution_count": 13,
   "metadata": {
    "scrolled": false
   },
   "outputs": [
    {
     "data": {
      "text/html": [
       "<div>\n",
       "<style scoped>\n",
       "    .dataframe tbody tr th:only-of-type {\n",
       "        vertical-align: middle;\n",
       "    }\n",
       "\n",
       "    .dataframe tbody tr th {\n",
       "        vertical-align: top;\n",
       "    }\n",
       "\n",
       "    .dataframe thead th {\n",
       "        text-align: right;\n",
       "    }\n",
       "</style>\n",
       "<table border=\"1\" class=\"dataframe\">\n",
       "  <thead>\n",
       "    <tr style=\"text-align: right;\">\n",
       "      <th></th>\n",
       "      <th>Symbol</th>\n",
       "      <th>Company_Name</th>\n",
       "      <th>StartDate</th>\n",
       "      <th>EndDate</th>\n",
       "      <th>AdjEndDate</th>\n",
       "      <th>Total_Return</th>\n",
       "      <th>Price</th>\n",
       "      <th>MarketCap</th>\n",
       "      <th>EnterpriseValue</th>\n",
       "      <th>Sales</th>\n",
       "      <th>...</th>\n",
       "      <th>ShareholderYield1</th>\n",
       "      <th>ShareholderYield2</th>\n",
       "      <th>Sector</th>\n",
       "      <th>Cash.1</th>\n",
       "      <th>Investments</th>\n",
       "      <th>Cash+LT</th>\n",
       "      <th>ST_Debt</th>\n",
       "      <th>LT_Debt</th>\n",
       "      <th>Net_Cash</th>\n",
       "      <th>R_D</th>\n",
       "    </tr>\n",
       "    <tr>\n",
       "      <th>Instance</th>\n",
       "      <th></th>\n",
       "      <th></th>\n",
       "      <th></th>\n",
       "      <th></th>\n",
       "      <th></th>\n",
       "      <th></th>\n",
       "      <th></th>\n",
       "      <th></th>\n",
       "      <th></th>\n",
       "      <th></th>\n",
       "      <th></th>\n",
       "      <th></th>\n",
       "      <th></th>\n",
       "      <th></th>\n",
       "      <th></th>\n",
       "      <th></th>\n",
       "      <th></th>\n",
       "      <th></th>\n",
       "      <th></th>\n",
       "      <th></th>\n",
       "      <th></th>\n",
       "    </tr>\n",
       "  </thead>\n",
       "  <tbody>\n",
       "    <tr>\n",
       "      <th>SHOP-US_12/31/2016</th>\n",
       "      <td>SHOP-US</td>\n",
       "      <td>Shopify, Inc. Class A</td>\n",
       "      <td>12/31/2016</td>\n",
       "      <td>12/31/2017</td>\n",
       "      <td>12/29/2017</td>\n",
       "      <td>135.59600</td>\n",
       "      <td>42.87</td>\n",
       "      <td>3832.8127</td>\n",
       "      <td>3432.5260</td>\n",
       "      <td>328.554</td>\n",
       "      <td>...</td>\n",
       "      <td>-0.143685</td>\n",
       "      <td>-0.060872</td>\n",
       "      <td>NaN</td>\n",
       "      <td>256.539333</td>\n",
       "      <td>0.00000</td>\n",
       "      <td>256.539333</td>\n",
       "      <td>0.0</td>\n",
       "      <td>0.0</td>\n",
       "      <td>256.539333</td>\n",
       "      <td>63.940</td>\n",
       "    </tr>\n",
       "    <tr>\n",
       "      <th>SHOP-US_12/31/2015</th>\n",
       "      <td>SHOP-US</td>\n",
       "      <td>Shopify, Inc. Class A</td>\n",
       "      <td>12/31/2015</td>\n",
       "      <td>12/31/2016</td>\n",
       "      <td>12/30/2016</td>\n",
       "      <td>66.16279</td>\n",
       "      <td>25.80</td>\n",
       "      <td>2066.3184</td>\n",
       "      <td>1879.3823</td>\n",
       "      <td>170.242</td>\n",
       "      <td>...</td>\n",
       "      <td>NaN</td>\n",
       "      <td>NaN</td>\n",
       "      <td>NaN</td>\n",
       "      <td>126.148750</td>\n",
       "      <td>1.13625</td>\n",
       "      <td>127.285000</td>\n",
       "      <td>0.0</td>\n",
       "      <td>0.0</td>\n",
       "      <td>127.285000</td>\n",
       "      <td>33.898</td>\n",
       "    </tr>\n",
       "  </tbody>\n",
       "</table>\n",
       "<p>2 rows × 68 columns</p>\n",
       "</div>"
      ],
      "text/plain": [
       "                     Symbol           Company_Name   StartDate     EndDate  \\\n",
       "Instance                                                                     \n",
       "SHOP-US_12/31/2016  SHOP-US  Shopify, Inc. Class A  12/31/2016  12/31/2017   \n",
       "SHOP-US_12/31/2015  SHOP-US  Shopify, Inc. Class A  12/31/2015  12/31/2016   \n",
       "\n",
       "                    AdjEndDate  Total_Return  Price  MarketCap  \\\n",
       "Instance                                                         \n",
       "SHOP-US_12/31/2016  12/29/2017     135.59600  42.87  3832.8127   \n",
       "SHOP-US_12/31/2015  12/30/2016      66.16279  25.80  2066.3184   \n",
       "\n",
       "                    EnterpriseValue    Sales  ...  ShareholderYield1  \\\n",
       "Instance                                      ...                      \n",
       "SHOP-US_12/31/2016        3432.5260  328.554  ...          -0.143685   \n",
       "SHOP-US_12/31/2015        1879.3823  170.242  ...                NaN   \n",
       "\n",
       "                    ShareholderYield2  Sector      Cash.1  Investments  \\\n",
       "Instance                                                                 \n",
       "SHOP-US_12/31/2016          -0.060872     NaN  256.539333      0.00000   \n",
       "SHOP-US_12/31/2015                NaN     NaN  126.148750      1.13625   \n",
       "\n",
       "                       Cash+LT  ST_Debt  LT_Debt    Net_Cash     R_D  \n",
       "Instance                                                              \n",
       "SHOP-US_12/31/2016  256.539333      0.0      0.0  256.539333  63.940  \n",
       "SHOP-US_12/31/2015  127.285000      0.0      0.0  127.285000  33.898  \n",
       "\n",
       "[2 rows x 68 columns]"
      ]
     },
     "execution_count": 13,
     "metadata": {},
     "output_type": "execute_result"
    }
   ],
   "source": [
    "roic_import.tail(2)"
   ]
  },
  {
   "cell_type": "code",
   "execution_count": 14,
   "metadata": {},
   "outputs": [
    {
     "data": {
      "text/plain": [
       "(14854, 68)"
      ]
     },
     "execution_count": 14,
     "metadata": {},
     "output_type": "execute_result"
    }
   ],
   "source": [
    "roic_import.shape"
   ]
  },
  {
   "cell_type": "code",
   "execution_count": 15,
   "metadata": {},
   "outputs": [],
   "source": [
    "# roic_filtered.dtypes"
   ]
  },
  {
   "cell_type": "code",
   "execution_count": 16,
   "metadata": {},
   "outputs": [],
   "source": [
    "# just have one class of google shares\n",
    "roic_import = roic_import[roic_import['Symbol'] != 'GOOGL-US']"
   ]
  },
  {
   "cell_type": "code",
   "execution_count": 17,
   "metadata": {},
   "outputs": [
    {
     "name": "stdout",
     "output_type": "stream",
     "text": [
      "BEFORE: True\n",
      "AFTER: False\n"
     ]
    }
   ],
   "source": [
    "print('BEFORE:', roic_import.isnull().values.any())   # prints True\n",
    "\n",
    "# fill missing values with zeros\n",
    "roic_filtered = roic_import.fillna(0)\n",
    "\n",
    "print('AFTER:',roic_filtered.isnull().values.any())   # prints False now :)"
   ]
  },
  {
   "cell_type": "code",
   "execution_count": 18,
   "metadata": {},
   "outputs": [
    {
     "name": "stdout",
     "output_type": "stream",
     "text": [
      "ORIGINAL: True\n"
     ]
    }
   ],
   "source": [
    "print('ORIGINAL:',roic_import.isnull().values.any())   # Should still print True if we didn't change original"
   ]
  },
  {
   "cell_type": "code",
   "execution_count": 19,
   "metadata": {},
   "outputs": [],
   "source": [
    "# roic_filtered = roic_import.fillna(0)"
   ]
  },
  {
   "cell_type": "code",
   "execution_count": 20,
   "metadata": {
    "scrolled": false
   },
   "outputs": [
    {
     "data": {
      "text/plain": [
       "(14849, 68)"
      ]
     },
     "execution_count": 20,
     "metadata": {},
     "output_type": "execute_result"
    }
   ],
   "source": [
    "roic_filtered.shape"
   ]
  },
  {
   "cell_type": "code",
   "execution_count": 21,
   "metadata": {},
   "outputs": [],
   "source": [
    "# set the index to instance\n",
    "\n",
    "# roic_filtered = roic_filtered.set_index('Instance')"
   ]
  },
  {
   "cell_type": "markdown",
   "metadata": {},
   "source": [
    "## Beta import"
   ]
  },
  {
   "cell_type": "code",
   "execution_count": 22,
   "metadata": {},
   "outputs": [],
   "source": [
    "# import the table of symbols and sectors\n",
    "\n",
    "data_dir = '/Users/evan/Library/Mobile Documents/com~apple~CloudDocs/Data2021/'\n",
    "betadf = pd.read_csv('{}{}'\\\n",
    ".format(data_dir,'Upside Downside Trailing Beta - IWV - 2015-2019.csv'), low_memory=False,\n",
    "                   na_values=['#VALUE!', '#DIV/0!'])\n",
    "betadf = betadf[['Instance', 'Beta','UpsideBeta','DownsideBeta']]"
   ]
  },
  {
   "cell_type": "code",
   "execution_count": 23,
   "metadata": {},
   "outputs": [],
   "source": [
    "# merge the beta lookup into the roic filtered dataframe\n",
    "\n",
    "roic_filtered = roic_filtered.reset_index()\n",
    "roic_filtered = pd.merge(roic_filtered,betadf, on='Instance')\n",
    "roic_filtered = roic_filtered.set_index('Instance')"
   ]
  },
  {
   "cell_type": "code",
   "execution_count": 24,
   "metadata": {},
   "outputs": [],
   "source": [
    "roic_filtered['UpsideSpread'] = roic_filtered.UpsideBeta - roic_filtered.DownsideBeta"
   ]
  },
  {
   "cell_type": "code",
   "execution_count": 25,
   "metadata": {},
   "outputs": [
    {
     "data": {
      "text/plain": [
       "(14843, 72)"
      ]
     },
     "execution_count": 25,
     "metadata": {},
     "output_type": "execute_result"
    }
   ],
   "source": [
    "roic_filtered.shape"
   ]
  },
  {
   "cell_type": "code",
   "execution_count": 26,
   "metadata": {},
   "outputs": [],
   "source": [
    "roic_filtered = roic_filtered.drop_duplicates()"
   ]
  },
  {
   "cell_type": "code",
   "execution_count": 27,
   "metadata": {},
   "outputs": [
    {
     "data": {
      "text/plain": [
       "(14843, 72)"
      ]
     },
     "execution_count": 27,
     "metadata": {},
     "output_type": "execute_result"
    }
   ],
   "source": [
    "roic_filtered.shape"
   ]
  },
  {
   "cell_type": "markdown",
   "metadata": {},
   "source": [
    "## Momo import"
   ]
  },
  {
   "cell_type": "code",
   "execution_count": 28,
   "metadata": {},
   "outputs": [],
   "source": [
    "#### merging in momentum data"
   ]
  },
  {
   "cell_type": "code",
   "execution_count": 29,
   "metadata": {},
   "outputs": [],
   "source": [
    "# import the momentum data\n",
    "momo2021df = pd.read_csv('{}{}'.format(working_dir,'Momentum_Lookup_Subtract_IWV_2016_2020.csv'), \n",
    "                         low_memory=False, na_values=['#VALUE!', '#DIV/0!'])\n",
    "\n",
    "momo2021df = momo2021df[['Instance','3mo_Return','6mo_Return','1year_Return','relative_3mo_spy',\n",
    "                 'relative_6mo_spy','relative_1y_spy','relative_3mo_ijr','relative_6mo_ijr',\n",
    "                 'relative_1y_ijr','relative_3mo_xlp','relative_6mo_xlp','relative_1y_xlp']]\n",
    "momo2021df = momo2021df.fillna(0)"
   ]
  },
  {
   "cell_type": "code",
   "execution_count": 30,
   "metadata": {},
   "outputs": [],
   "source": [
    "# merge the beta lookup into the roic filtered dataframe\n",
    "roic_filtered = roic_filtered.reset_index()\n",
    "roic_filtered = pd.merge(roic_filtered,momo2021df, on='Instance')\n",
    "roic_filtered = roic_filtered.set_index('Instance')"
   ]
  },
  {
   "cell_type": "code",
   "execution_count": 31,
   "metadata": {},
   "outputs": [
    {
     "data": {
      "text/plain": [
       "(14843, 84)"
      ]
     },
     "execution_count": 31,
     "metadata": {},
     "output_type": "execute_result"
    }
   ],
   "source": [
    "roic_filtered.shape"
   ]
  },
  {
   "cell_type": "code",
   "execution_count": null,
   "metadata": {},
   "outputs": [],
   "source": []
  },
  {
   "cell_type": "markdown",
   "metadata": {},
   "source": [
    "## Manually created features"
   ]
  },
  {
   "cell_type": "code",
   "execution_count": 32,
   "metadata": {},
   "outputs": [],
   "source": [
    "# make some new features with some simple division and addition"
   ]
  },
  {
   "cell_type": "code",
   "execution_count": 33,
   "metadata": {},
   "outputs": [],
   "source": [
    "roic_filtered['Net_Cash_Pct'] = roic_filtered.Net_Cash / roic_filtered.MarketCap"
   ]
  },
  {
   "cell_type": "code",
   "execution_count": 34,
   "metadata": {},
   "outputs": [],
   "source": [
    "roic_filtered['EBIT_RD'] = roic_filtered.EBIT + roic_filtered.R_D\n",
    "roic_filtered['OCF_RD'] = roic_filtered.OCF + roic_filtered.R_D\n",
    "roic_filtered['FCF_RD'] = roic_filtered.FCF + roic_filtered.R_D"
   ]
  },
  {
   "cell_type": "code",
   "execution_count": 35,
   "metadata": {},
   "outputs": [],
   "source": [
    "roic_filtered['EBIT_RD_ROIC'] = roic_filtered.EBIT_RD / roic_filtered.TangibleCapital\n",
    "roic_filtered['OCF_RD_ROIC'] = roic_filtered.OCF_RD / roic_filtered.TangibleCapital\n",
    "roic_filtered['FCF_RD_ROIC'] = roic_filtered.FCF_RD / roic_filtered.TangibleCapital"
   ]
  },
  {
   "cell_type": "code",
   "execution_count": 36,
   "metadata": {},
   "outputs": [],
   "source": [
    "roic_filtered['RD_Cap'] = roic_filtered.R_D / roic_filtered.TangibleCapital\n",
    "roic_filtered['RD_Sales'] = roic_filtered.R_D / roic_filtered.Sales"
   ]
  },
  {
   "cell_type": "code",
   "execution_count": 37,
   "metadata": {},
   "outputs": [],
   "source": [
    "roic_filtered['EBIT_RD_EV'] = roic_filtered.EBIT_RD / roic_filtered.EnterpriseValue\n",
    "roic_filtered['OCF_RD_EV'] = roic_filtered.OCF_RD / roic_filtered.EnterpriseValue\n",
    "roic_filtered['FCF_RD_EV'] = roic_filtered.FCF_RD / roic_filtered.EnterpriseValue"
   ]
  },
  {
   "cell_type": "code",
   "execution_count": 38,
   "metadata": {},
   "outputs": [
    {
     "data": {
      "text/plain": [
       "(14843, 96)"
      ]
     },
     "execution_count": 38,
     "metadata": {},
     "output_type": "execute_result"
    }
   ],
   "source": [
    "roic_filtered.shape"
   ]
  },
  {
   "cell_type": "code",
   "execution_count": 39,
   "metadata": {},
   "outputs": [],
   "source": [
    "roic_filtered['Price_Sales'] = roic_filtered.MarketCap / roic_filtered.Sales"
   ]
  },
  {
   "cell_type": "code",
   "execution_count": 40,
   "metadata": {},
   "outputs": [],
   "source": [
    "roic_filtered = roic_filtered.rename(columns={'R_D':'RD'})"
   ]
  },
  {
   "cell_type": "code",
   "execution_count": 41,
   "metadata": {},
   "outputs": [],
   "source": [
    "# change any infinity or negative infinity values to NaN\n",
    "roic_filtered = roic_filtered.replace([np.inf, -np.inf], np.nan)"
   ]
  },
  {
   "cell_type": "code",
   "execution_count": 42,
   "metadata": {},
   "outputs": [],
   "source": [
    "# fill NaNs with zeros\n",
    "roic_filtered = roic_filtered.fillna(0)"
   ]
  },
  {
   "cell_type": "code",
   "execution_count": 43,
   "metadata": {},
   "outputs": [],
   "source": [
    "# roic_filtered.head()"
   ]
  },
  {
   "cell_type": "markdown",
   "metadata": {},
   "source": [
    "## Prior Year Import"
   ]
  },
  {
   "cell_type": "code",
   "execution_count": 44,
   "metadata": {},
   "outputs": [],
   "source": [
    "roic_filtered = roic_filtered.reset_index().drop(columns='Instance')"
   ]
  },
  {
   "cell_type": "code",
   "execution_count": 45,
   "metadata": {},
   "outputs": [],
   "source": [
    "# roic_filtered.StartDate.replace('12/9/2020','12/31/2020', inplace=True)24"
   ]
  },
  {
   "cell_type": "code",
   "execution_count": 46,
   "metadata": {},
   "outputs": [],
   "source": [
    "roic_filtered['Instance'] = roic_filtered['Symbol'].astype(str) + '_' + roic_filtered['StartDate'].astype(str)\n",
    "roic_filtered = roic_filtered.set_index('Instance')"
   ]
  },
  {
   "cell_type": "code",
   "execution_count": 47,
   "metadata": {},
   "outputs": [],
   "source": [
    "# priordir = '/Users/evan/Library/Mobile Documents/com~apple~CloudDocs/Data2020/'\n",
    "# prioryear = pd.read_csv('{}{}'.format(priordir,'ROIC_2020_with_Deltas_and_beta_through_2020_12_24.csv'),\n",
    "#                         low_memory=False)\n",
    "\n",
    "\n",
    "priordir = '/Users/evan/Library/Mobile Documents/com~apple~CloudDocs/Data2021/'\n",
    "prioryear = pd.read_csv('{}{}'.format(priordir,'New_ROIC_Historical--IWV-2020-acq-nr-one-day-offset.csv'),\n",
    "                        low_memory=False, na_values=['#VALUE!', '#DIV/0!'])"
   ]
  },
  {
   "cell_type": "code",
   "execution_count": 48,
   "metadata": {},
   "outputs": [
    {
     "data": {
      "text/plain": [
       "(2858, 68)"
      ]
     },
     "execution_count": 48,
     "metadata": {},
     "output_type": "execute_result"
    }
   ],
   "source": [
    "prioryear = prioryear[prioryear['StartDate'] == '12/31/2020']\n",
    "prioryear['Instance'] = prioryear['Symbol'].astype(str) + '_' + prioryear['StartDate'].astype(str)\n",
    "prioryear = prioryear.set_index('Instance')\n",
    "prioryear.shape"
   ]
  },
  {
   "cell_type": "code",
   "execution_count": 49,
   "metadata": {},
   "outputs": [],
   "source": [
    "prioryear['Net_Cash_Pct'] = prioryear.Net_Cash / prioryear.MarketCap\n",
    "\n",
    "prioryear['EBIT_RD'] = prioryear.EBIT + prioryear.R_D\n",
    "prioryear['OCF_RD'] = prioryear.OCF + prioryear.R_D\n",
    "prioryear['FCF_RD'] = prioryear.FCF + prioryear.R_D\n",
    "\n",
    "prioryear['EBIT_RD_ROIC'] = prioryear.EBIT_RD / prioryear.TangibleCapital\n",
    "prioryear['OCF_RD_ROIC'] = prioryear.OCF_RD / prioryear.TangibleCapital\n",
    "prioryear['FCF_RD_ROIC'] = prioryear.FCF_RD / prioryear.TangibleCapital\n",
    "\n",
    "prioryear['RD_Cap'] = prioryear.R_D / prioryear.TangibleCapital\n",
    "prioryear['RD_Sales'] = prioryear.R_D / prioryear.Sales\n",
    "\n",
    "prioryear['Price_Sales'] = prioryear.MarketCap / prioryear.Sales\n",
    "\n",
    "prioryear['EBIT_RD_EV'] = prioryear.EBIT_RD / prioryear.EnterpriseValue\n",
    "prioryear['OCF_RD_EV'] = prioryear.OCF_RD / prioryear.EnterpriseValue\n",
    "prioryear['FCF_RD_EV'] = prioryear.FCF_RD / prioryear.EnterpriseValue"
   ]
  },
  {
   "cell_type": "code",
   "execution_count": 50,
   "metadata": {},
   "outputs": [],
   "source": [
    "# import the table of symbols and sectors\n",
    "\n",
    "data_dir = '/Users/evan/Library/Mobile Documents/com~apple~CloudDocs/Data2021/'\n",
    "betadf = pd.read_csv('{}{}'\\\n",
    ".format(data_dir,'Upside Downside Trailing Beta - IWV - 2020 - 20201231.csv'), \n",
    "                     low_memory=False, na_values=['#VALUE!', '#DIV/0!'])\n",
    "betadf = betadf[['Instance', 'Beta','UpsideBeta','DownsideBeta']]"
   ]
  },
  {
   "cell_type": "code",
   "execution_count": 51,
   "metadata": {},
   "outputs": [],
   "source": [
    "# merge the beta lookup into the roic filtered dataframe\n",
    "\n",
    "prioryear = prioryear.reset_index()\n",
    "prioryear = pd.merge(prioryear,betadf, on='Instance')\n",
    "prioryear = prioryear.set_index('Instance')"
   ]
  },
  {
   "cell_type": "code",
   "execution_count": 52,
   "metadata": {},
   "outputs": [],
   "source": [
    "prioryear = prioryear.rename(columns={'R_D':'RD'})"
   ]
  },
  {
   "cell_type": "code",
   "execution_count": 53,
   "metadata": {},
   "outputs": [],
   "source": [
    "combined = pd.concat([roic_filtered,prioryear], sort=True)"
   ]
  },
  {
   "cell_type": "code",
   "execution_count": 54,
   "metadata": {},
   "outputs": [],
   "source": [
    "combined = combined.fillna(0)"
   ]
  },
  {
   "cell_type": "code",
   "execution_count": 55,
   "metadata": {},
   "outputs": [
    {
     "data": {
      "text/plain": [
       "(17700, 97)"
      ]
     },
     "execution_count": 55,
     "metadata": {},
     "output_type": "execute_result"
    }
   ],
   "source": [
    "combined.shape"
   ]
  },
  {
   "cell_type": "code",
   "execution_count": 56,
   "metadata": {},
   "outputs": [
    {
     "data": {
      "text/plain": [
       "(14843, 97)"
      ]
     },
     "execution_count": 56,
     "metadata": {},
     "output_type": "execute_result"
    }
   ],
   "source": [
    "roic_filtered.shape"
   ]
  },
  {
   "cell_type": "code",
   "execution_count": 57,
   "metadata": {},
   "outputs": [
    {
     "data": {
      "text/plain": [
       "(14849, 68)"
      ]
     },
     "execution_count": 57,
     "metadata": {},
     "output_type": "execute_result"
    }
   ],
   "source": [
    "roic_import.shape"
   ]
  },
  {
   "cell_type": "markdown",
   "metadata": {},
   "source": [
    "### Import for 2022"
   ]
  },
  {
   "cell_type": "code",
   "execution_count": 58,
   "metadata": {},
   "outputs": [],
   "source": [
    "working_dir = '/Users/evan/Library/Mobile Documents/com~apple~CloudDocs/Data2022/'\n",
    "\n",
    "import_2022 = pd.read_csv('{}{}'\\\n",
    ".format(working_dir,'New_ROIC_Historical--IWV-2021-acq-nr-20211231-dpz-fix.csv'), low_memory=False,\n",
    "na_values=['#VALUE!', '#DIV/0!','#SPILL!'])"
   ]
  },
  {
   "cell_type": "code",
   "execution_count": 59,
   "metadata": {},
   "outputs": [],
   "source": [
    "import_2022['Instance'] = import_2022['Symbol'].astype(str) + '_' + import_2022['StartDate'].astype(str)"
   ]
  },
  {
   "cell_type": "code",
   "execution_count": 60,
   "metadata": {},
   "outputs": [
    {
     "data": {
      "text/html": [
       "<div>\n",
       "<style scoped>\n",
       "    .dataframe tbody tr th:only-of-type {\n",
       "        vertical-align: middle;\n",
       "    }\n",
       "\n",
       "    .dataframe tbody tr th {\n",
       "        vertical-align: top;\n",
       "    }\n",
       "\n",
       "    .dataframe thead th {\n",
       "        text-align: right;\n",
       "    }\n",
       "</style>\n",
       "<table border=\"1\" class=\"dataframe\">\n",
       "  <thead>\n",
       "    <tr style=\"text-align: right;\">\n",
       "      <th></th>\n",
       "      <th>Symbol</th>\n",
       "      <th>Company_Name</th>\n",
       "      <th>StartDate</th>\n",
       "      <th>EndDate</th>\n",
       "      <th>AdjEndDate</th>\n",
       "      <th>Total_Return</th>\n",
       "      <th>Price</th>\n",
       "      <th>MarketCap</th>\n",
       "      <th>EnterpriseValue</th>\n",
       "      <th>Sales</th>\n",
       "      <th>...</th>\n",
       "      <th>ShareholderYield2</th>\n",
       "      <th>Sector</th>\n",
       "      <th>Cash.1</th>\n",
       "      <th>Investments</th>\n",
       "      <th>Cash+LT</th>\n",
       "      <th>ST_Debt</th>\n",
       "      <th>LT_Debt</th>\n",
       "      <th>Net_Cash</th>\n",
       "      <th>R_D</th>\n",
       "      <th>Instance</th>\n",
       "    </tr>\n",
       "  </thead>\n",
       "  <tbody>\n",
       "    <tr>\n",
       "      <th>0</th>\n",
       "      <td>MSFT-US</td>\n",
       "      <td>Microsoft Corporation</td>\n",
       "      <td>12/31/2021</td>\n",
       "      <td>12/31/2021</td>\n",
       "      <td>12/31/2021</td>\n",
       "      <td>0.0</td>\n",
       "      <td>336.32</td>\n",
       "      <td>2525084.0</td>\n",
       "      <td>2473404.0</td>\n",
       "      <td>176251.0</td>\n",
       "      <td>...</td>\n",
       "      <td>0.017895</td>\n",
       "      <td>Information Technology</td>\n",
       "      <td>129787.80</td>\n",
       "      <td>5638.0</td>\n",
       "      <td>135425.80</td>\n",
       "      <td>8363.40</td>\n",
       "      <td>72474.6</td>\n",
       "      <td>54587.8</td>\n",
       "      <td>21389.0</td>\n",
       "      <td>MSFT-US_12/31/2021</td>\n",
       "    </tr>\n",
       "    <tr>\n",
       "      <th>1</th>\n",
       "      <td>AAPL-US</td>\n",
       "      <td>Apple Inc.</td>\n",
       "      <td>12/31/2021</td>\n",
       "      <td>12/31/2021</td>\n",
       "      <td>12/31/2021</td>\n",
       "      <td>0.0</td>\n",
       "      <td>177.57</td>\n",
       "      <td>2913284.8</td>\n",
       "      <td>2987167.8</td>\n",
       "      <td>366295.0</td>\n",
       "      <td>...</td>\n",
       "      <td>0.034086</td>\n",
       "      <td>Information Technology</td>\n",
       "      <td>67748.75</td>\n",
       "      <td>129396.0</td>\n",
       "      <td>197144.75</td>\n",
       "      <td>14736.25</td>\n",
       "      <td>108264.0</td>\n",
       "      <td>74144.5</td>\n",
       "      <td>21914.0</td>\n",
       "      <td>AAPL-US_12/31/2021</td>\n",
       "    </tr>\n",
       "  </tbody>\n",
       "</table>\n",
       "<p>2 rows × 69 columns</p>\n",
       "</div>"
      ],
      "text/plain": [
       "    Symbol           Company_Name   StartDate     EndDate  AdjEndDate  \\\n",
       "0  MSFT-US  Microsoft Corporation  12/31/2021  12/31/2021  12/31/2021   \n",
       "1  AAPL-US             Apple Inc.  12/31/2021  12/31/2021  12/31/2021   \n",
       "\n",
       "   Total_Return   Price  MarketCap  EnterpriseValue     Sales  ...  \\\n",
       "0           0.0  336.32  2525084.0        2473404.0  176251.0  ...   \n",
       "1           0.0  177.57  2913284.8        2987167.8  366295.0  ...   \n",
       "\n",
       "   ShareholderYield2                  Sector     Cash.1  Investments  \\\n",
       "0           0.017895  Information Technology  129787.80       5638.0   \n",
       "1           0.034086  Information Technology   67748.75     129396.0   \n",
       "\n",
       "     Cash+LT   ST_Debt   LT_Debt  Net_Cash      R_D            Instance  \n",
       "0  135425.80   8363.40   72474.6   54587.8  21389.0  MSFT-US_12/31/2021  \n",
       "1  197144.75  14736.25  108264.0   74144.5  21914.0  AAPL-US_12/31/2021  \n",
       "\n",
       "[2 rows x 69 columns]"
      ]
     },
     "execution_count": 60,
     "metadata": {},
     "output_type": "execute_result"
    }
   ],
   "source": [
    "import_2022.head(2)"
   ]
  },
  {
   "cell_type": "code",
   "execution_count": 61,
   "metadata": {},
   "outputs": [],
   "source": [
    "# fill missing values with zeros\n",
    "import_2022 = import_2022.fillna(0)"
   ]
  },
  {
   "cell_type": "code",
   "execution_count": 62,
   "metadata": {},
   "outputs": [
    {
     "data": {
      "text/plain": [
       "(2717, 81)"
      ]
     },
     "execution_count": 62,
     "metadata": {},
     "output_type": "execute_result"
    }
   ],
   "source": [
    "# make some new features with some simple division and addition\n",
    "\n",
    "import_2022['Net_Cash_Pct'] = import_2022.Net_Cash / import_2022.MarketCap\n",
    "\n",
    "import_2022['EBIT_RD'] = import_2022.EBIT + import_2022.R_D\n",
    "import_2022['OCF_RD'] = import_2022.OCF + import_2022.R_D\n",
    "import_2022['FCF_RD'] = import_2022.FCF + import_2022.R_D\n",
    "\n",
    "import_2022['EBIT_RD_ROIC'] = import_2022.EBIT_RD / import_2022.TangibleCapital\n",
    "import_2022['OCF_RD_ROIC'] = import_2022.OCF_RD / import_2022.TangibleCapital\n",
    "import_2022['FCF_RD_ROIC'] = import_2022.FCF_RD / import_2022.TangibleCapital\n",
    "\n",
    "import_2022['RD_Cap'] = import_2022.R_D / import_2022.TangibleCapital\n",
    "import_2022['RD_Sales'] = import_2022.R_D / import_2022.Sales\n",
    "\n",
    "import_2022['EBIT_RD_EV'] = import_2022.EBIT_RD / import_2022.EnterpriseValue\n",
    "import_2022['OCF_RD_EV'] = import_2022.OCF_RD / import_2022.EnterpriseValue\n",
    "import_2022['FCF_RD_EV'] = import_2022.FCF_RD / import_2022.EnterpriseValue\n",
    "\n",
    "import_2022.shape\n",
    "\n",
    "import_2022['Price_Sales'] = import_2022.MarketCap / import_2022.Sales\n",
    "\n",
    "import_2022 = import_2022.rename(columns={'R_D':'RD'})\n",
    "\n",
    "# change any infinity or negative infinity values to NaN\n",
    "import_2022 = import_2022.replace([np.inf, -np.inf], np.nan)"
   ]
  },
  {
   "cell_type": "code",
   "execution_count": 63,
   "metadata": {},
   "outputs": [],
   "source": [
    "import_2022 = import_2022.set_index('Instance')"
   ]
  },
  {
   "cell_type": "code",
   "execution_count": 64,
   "metadata": {},
   "outputs": [],
   "source": [
    "# import the table of symbols and sectors\n",
    "\n",
    "data_dir = '/Users/evan/Library/Mobile Documents/com~apple~CloudDocs/Data2022/'\n",
    "betadf = pd.read_csv('{}{}'\\\n",
    ".format(data_dir,'Upside Downside Trailing Beta - IWV - 2021 - 20211231.csv'), \n",
    "                     low_memory=False, na_values=['#VALUE!', '#DIV/0!','#N/A'])\n",
    "betadf = betadf[['Instance', 'Beta','UpsideBeta','DownsideBeta']]\n",
    "\n",
    "betadf = betadf.fillna(0)\n",
    "\n",
    "# merge the beta lookup into the roic filtered dataframe\n",
    "\n",
    "import_2022 = import_2022.reset_index()\n",
    "import_2022 = pd.merge(import_2022,betadf, on='Instance')\n",
    "import_2022 = import_2022.set_index('Instance')"
   ]
  },
  {
   "cell_type": "code",
   "execution_count": 65,
   "metadata": {},
   "outputs": [],
   "source": [
    "combined = pd.concat([combined,import_2022], sort=True)"
   ]
  },
  {
   "cell_type": "code",
   "execution_count": 66,
   "metadata": {},
   "outputs": [
    {
     "data": {
      "text/plain": [
       "(20416, 97)"
      ]
     },
     "execution_count": 66,
     "metadata": {},
     "output_type": "execute_result"
    }
   ],
   "source": [
    "combined.shape"
   ]
  },
  {
   "cell_type": "markdown",
   "metadata": {},
   "source": [
    "### Import for LTM"
   ]
  },
  {
   "cell_type": "code",
   "execution_count": 67,
   "metadata": {},
   "outputs": [],
   "source": [
    "working_dir = '/Users/evan/Library/Mobile Documents/com~apple~CloudDocs/Data2022/'\n",
    "\n",
    "import_LTM = pd.read_csv('{}{}'\\\n",
    ".format(working_dir,'New_ROIC_Historical--IWV-dpz-fix-shop-LTM-20220506.csv'), low_memory=False,\n",
    "na_values=['#VALUE!', '#DIV/0!','#SPILL!'])"
   ]
  },
  {
   "cell_type": "code",
   "execution_count": 68,
   "metadata": {},
   "outputs": [],
   "source": [
    "import_LTM['Instance'] = import_LTM['Symbol'].astype(str) + '_' + import_LTM['StartDate'].astype(str)"
   ]
  },
  {
   "cell_type": "code",
   "execution_count": 69,
   "metadata": {},
   "outputs": [
    {
     "data": {
      "text/html": [
       "<div>\n",
       "<style scoped>\n",
       "    .dataframe tbody tr th:only-of-type {\n",
       "        vertical-align: middle;\n",
       "    }\n",
       "\n",
       "    .dataframe tbody tr th {\n",
       "        vertical-align: top;\n",
       "    }\n",
       "\n",
       "    .dataframe thead th {\n",
       "        text-align: right;\n",
       "    }\n",
       "</style>\n",
       "<table border=\"1\" class=\"dataframe\">\n",
       "  <thead>\n",
       "    <tr style=\"text-align: right;\">\n",
       "      <th></th>\n",
       "      <th>Symbol</th>\n",
       "      <th>Company_Name</th>\n",
       "      <th>StartDate</th>\n",
       "      <th>EndDate</th>\n",
       "      <th>AdjEndDate</th>\n",
       "      <th>Total_Return</th>\n",
       "      <th>Price</th>\n",
       "      <th>MarketCap</th>\n",
       "      <th>EnterpriseValue</th>\n",
       "      <th>Sales</th>\n",
       "      <th>...</th>\n",
       "      <th>ShareholderYield2</th>\n",
       "      <th>Sector</th>\n",
       "      <th>Cash.1</th>\n",
       "      <th>Investments</th>\n",
       "      <th>Cash+LT</th>\n",
       "      <th>ST_Debt</th>\n",
       "      <th>LT_Debt</th>\n",
       "      <th>Net_Cash</th>\n",
       "      <th>R_D</th>\n",
       "      <th>Instance</th>\n",
       "    </tr>\n",
       "  </thead>\n",
       "  <tbody>\n",
       "    <tr>\n",
       "      <th>0</th>\n",
       "      <td>MSFT-US</td>\n",
       "      <td>Microsoft Corporation</td>\n",
       "      <td>5/6/2022</td>\n",
       "      <td>5/6/2022</td>\n",
       "      <td>05/06/2022</td>\n",
       "      <td>0.0</td>\n",
       "      <td>274.73</td>\n",
       "      <td>2054713.9</td>\n",
       "      <td>2028001.9</td>\n",
       "      <td>192557.0</td>\n",
       "      <td>...</td>\n",
       "      <td>0.023280</td>\n",
       "      <td>Information Technology</td>\n",
       "      <td>122752.75</td>\n",
       "      <td>6594.00</td>\n",
       "      <td>129346.75</td>\n",
       "      <td>7492.25</td>\n",
       "      <td>72394.50</td>\n",
       "      <td>49460.0</td>\n",
       "      <td>23350.0</td>\n",
       "      <td>MSFT-US_5/6/2022</td>\n",
       "    </tr>\n",
       "    <tr>\n",
       "      <th>1</th>\n",
       "      <td>AAPL-US</td>\n",
       "      <td>Apple Inc.</td>\n",
       "      <td>5/6/2022</td>\n",
       "      <td>5/6/2022</td>\n",
       "      <td>05/06/2022</td>\n",
       "      <td>0.0</td>\n",
       "      <td>157.28</td>\n",
       "      <td>2566715.3</td>\n",
       "      <td>2635185.3</td>\n",
       "      <td>386077.0</td>\n",
       "      <td>...</td>\n",
       "      <td>0.039049</td>\n",
       "      <td>Information Technology</td>\n",
       "      <td>59939.75</td>\n",
       "      <td>135238.25</td>\n",
       "      <td>195178.00</td>\n",
       "      <td>16501.75</td>\n",
       "      <td>108771.25</td>\n",
       "      <td>69905.0</td>\n",
       "      <td>24182.0</td>\n",
       "      <td>AAPL-US_5/6/2022</td>\n",
       "    </tr>\n",
       "  </tbody>\n",
       "</table>\n",
       "<p>2 rows × 69 columns</p>\n",
       "</div>"
      ],
      "text/plain": [
       "    Symbol           Company_Name StartDate   EndDate  AdjEndDate  \\\n",
       "0  MSFT-US  Microsoft Corporation  5/6/2022  5/6/2022  05/06/2022   \n",
       "1  AAPL-US             Apple Inc.  5/6/2022  5/6/2022  05/06/2022   \n",
       "\n",
       "   Total_Return   Price  MarketCap  EnterpriseValue     Sales  ...  \\\n",
       "0           0.0  274.73  2054713.9        2028001.9  192557.0  ...   \n",
       "1           0.0  157.28  2566715.3        2635185.3  386077.0  ...   \n",
       "\n",
       "   ShareholderYield2                  Sector     Cash.1  Investments  \\\n",
       "0           0.023280  Information Technology  122752.75      6594.00   \n",
       "1           0.039049  Information Technology   59939.75    135238.25   \n",
       "\n",
       "     Cash+LT   ST_Debt    LT_Debt  Net_Cash      R_D          Instance  \n",
       "0  129346.75   7492.25   72394.50   49460.0  23350.0  MSFT-US_5/6/2022  \n",
       "1  195178.00  16501.75  108771.25   69905.0  24182.0  AAPL-US_5/6/2022  \n",
       "\n",
       "[2 rows x 69 columns]"
      ]
     },
     "execution_count": 69,
     "metadata": {},
     "output_type": "execute_result"
    }
   ],
   "source": [
    "import_LTM.head(2)"
   ]
  },
  {
   "cell_type": "code",
   "execution_count": 70,
   "metadata": {},
   "outputs": [],
   "source": [
    "# fill missing values with zeros\n",
    "import_LTM = import_LTM.fillna(0)"
   ]
  },
  {
   "cell_type": "code",
   "execution_count": 71,
   "metadata": {},
   "outputs": [
    {
     "data": {
      "text/plain": [
       "(2717, 81)"
      ]
     },
     "execution_count": 71,
     "metadata": {},
     "output_type": "execute_result"
    }
   ],
   "source": [
    "# make some new features with some simple division and addition\n",
    "\n",
    "import_LTM['Net_Cash_Pct'] = import_LTM.Net_Cash / import_LTM.MarketCap\n",
    "\n",
    "import_LTM['EBIT_RD'] = import_LTM.EBIT + import_LTM.R_D\n",
    "import_LTM['OCF_RD'] = import_LTM.OCF + import_LTM.R_D\n",
    "import_LTM['FCF_RD'] = import_LTM.FCF + import_LTM.R_D\n",
    "\n",
    "import_LTM['EBIT_RD_ROIC'] = import_LTM.EBIT_RD / import_LTM.TangibleCapital\n",
    "import_LTM['OCF_RD_ROIC'] = import_LTM.OCF_RD / import_LTM.TangibleCapital\n",
    "import_LTM['FCF_RD_ROIC'] = import_LTM.FCF_RD / import_LTM.TangibleCapital\n",
    "\n",
    "import_LTM['RD_Cap'] = import_LTM.R_D / import_LTM.TangibleCapital\n",
    "import_LTM['RD_Sales'] = import_LTM.R_D / import_LTM.Sales\n",
    "\n",
    "import_LTM['EBIT_RD_EV'] = import_LTM.EBIT_RD / import_LTM.EnterpriseValue\n",
    "import_LTM['OCF_RD_EV'] = import_LTM.OCF_RD / import_LTM.EnterpriseValue\n",
    "import_LTM['FCF_RD_EV'] = import_LTM.FCF_RD / import_LTM.EnterpriseValue\n",
    "\n",
    "import_LTM.shape\n",
    "\n",
    "import_LTM['Price_Sales'] = import_LTM.MarketCap / import_LTM.Sales\n",
    "\n",
    "import_LTM = import_LTM.rename(columns={'R_D':'RD'})\n",
    "\n",
    "# change any infinity or negative infinity values to NaN\n",
    "import_LTM = import_LTM.replace([np.inf, -np.inf], np.nan)"
   ]
  },
  {
   "cell_type": "code",
   "execution_count": 72,
   "metadata": {},
   "outputs": [],
   "source": [
    "import_LTM = import_LTM.set_index('Instance')"
   ]
  },
  {
   "cell_type": "code",
   "execution_count": 73,
   "metadata": {},
   "outputs": [],
   "source": [
    "# import the table of symbols and sectors\n",
    "\n",
    "data_dir = '/Users/evan/Library/Mobile Documents/com~apple~CloudDocs/Data2022/'\n",
    "betadf = pd.read_csv('{}{}'\\\n",
    ".format(data_dir,'Upside Downside Trailing Beta - IWV - LTM - 20220506.csv'), \n",
    "                     low_memory=False, na_values=['#VALUE!', '#DIV/0!','#N/A'])\n",
    "betadf = betadf[['Instance', 'Beta','UpsideBeta','DownsideBeta']]\n",
    "\n",
    "betadf = betadf.fillna(0)\n",
    "\n",
    "# merge the beta lookup into the roic filtered dataframe\n",
    "\n",
    "import_LTM = import_LTM.reset_index()\n",
    "import_LTM = pd.merge(import_LTM,betadf, on='Instance')\n",
    "import_LTM = import_LTM.set_index('Instance')"
   ]
  },
  {
   "cell_type": "code",
   "execution_count": 74,
   "metadata": {},
   "outputs": [],
   "source": [
    "combined = pd.concat([combined,import_LTM], sort=True)"
   ]
  },
  {
   "cell_type": "code",
   "execution_count": 75,
   "metadata": {},
   "outputs": [
    {
     "data": {
      "text/plain": [
       "(23132, 97)"
      ]
     },
     "execution_count": 75,
     "metadata": {},
     "output_type": "execute_result"
    }
   ],
   "source": [
    "combined.shape"
   ]
  },
  {
   "cell_type": "code",
   "execution_count": 76,
   "metadata": {},
   "outputs": [
    {
     "data": {
      "text/plain": [
       "(2716, 84)"
      ]
     },
     "execution_count": 76,
     "metadata": {},
     "output_type": "execute_result"
    }
   ],
   "source": [
    "import_LTM.shape"
   ]
  },
  {
   "cell_type": "code",
   "execution_count": 77,
   "metadata": {},
   "outputs": [
    {
     "data": {
      "text/plain": [
       "(2717, 4)"
      ]
     },
     "execution_count": 77,
     "metadata": {},
     "output_type": "execute_result"
    }
   ],
   "source": [
    "betadf.shape"
   ]
  },
  {
   "cell_type": "code",
   "execution_count": 78,
   "metadata": {},
   "outputs": [],
   "source": [
    "# combined.columns"
   ]
  },
  {
   "cell_type": "markdown",
   "metadata": {},
   "source": [
    "### Calculate Deltas with built-in vectorized functions"
   ]
  },
  {
   "cell_type": "code",
   "execution_count": 79,
   "metadata": {},
   "outputs": [],
   "source": [
    "#### make a subset dataframe to workout for calculating the deltas\n",
    "\n",
    "deltadf = combined[['Symbol', 'StartDate', 'EBIT_ROIC','OCF_ROIC','FCF_ROIC','TangibleCapital']].\\\n",
    "                    sort_values(by=['Symbol','StartDate'])"
   ]
  },
  {
   "cell_type": "code",
   "execution_count": 80,
   "metadata": {},
   "outputs": [
    {
     "name": "stdout",
     "output_type": "stream",
     "text": [
      "0.03 seconds\n"
     ]
    }
   ],
   "source": [
    "#### calculate the change in ROIC from the prior year. Simple subtraction for each \n",
    "#### Symbol compared to its prior year value\n",
    "#### Calculate the growth rate in tangible capital yoy for each company\n",
    "\n",
    "import time\n",
    "ta = time.time()\n",
    "\n",
    "deltadf = deltadf.assign(ebit_prior = lambda t: t.groupby('Symbol')['EBIT_ROIC'].shift(1),\n",
    "                         ebit_chg = lambda t: t['EBIT_ROIC'] - t['ebit_prior'],\n",
    "                         ocf_prior = lambda t: t.groupby('Symbol')['OCF_ROIC'].shift(1),\n",
    "                         ocf_chg = lambda t: t['OCF_ROIC'] - t['ocf_prior'],\n",
    "                         fcf_prior = lambda t: t.groupby('Symbol')['FCF_ROIC'].shift(1),\n",
    "                         fcf_chg = lambda t: t['FCF_ROIC'] - t['fcf_prior'],\n",
    "                         tangible_pctchg = lambda t: t.groupby('Symbol')['TangibleCapital'].pct_change())\n",
    "\n",
    "tb = time.time()\n",
    "totalab = tb-ta\n",
    "print(round(totalab,2),'seconds')"
   ]
  },
  {
   "cell_type": "code",
   "execution_count": 81,
   "metadata": {},
   "outputs": [
    {
     "name": "stdout",
     "output_type": "stream",
     "text": [
      "If you want to handle the companies that have data every 2, 3, 4... years\n",
      "and not every single year, I can write logic to handle that. I could input rows for the\n",
      "missing years, populate them with 0 or something, and then do the calculations, but that \n",
      "could be misleading.\n"
     ]
    }
   ],
   "source": [
    "print('''If you want to handle the companies that have data every 2, 3, 4... years\n",
    "and not every single year, I can write logic to handle that. I could input rows for the\n",
    "missing years, populate them with 0 or something, and then do the calculations, but that \n",
    "could be misleading.''')"
   ]
  },
  {
   "cell_type": "code",
   "execution_count": 82,
   "metadata": {},
   "outputs": [],
   "source": [
    "# deltadf.head(8)"
   ]
  },
  {
   "cell_type": "code",
   "execution_count": 83,
   "metadata": {},
   "outputs": [],
   "source": [
    "# deltadf[deltadf.Symbol=='MSFT-US']"
   ]
  },
  {
   "cell_type": "code",
   "execution_count": 84,
   "metadata": {},
   "outputs": [
    {
     "data": {
      "text/html": [
       "<div>\n",
       "<style scoped>\n",
       "    .dataframe tbody tr th:only-of-type {\n",
       "        vertical-align: middle;\n",
       "    }\n",
       "\n",
       "    .dataframe tbody tr th {\n",
       "        vertical-align: top;\n",
       "    }\n",
       "\n",
       "    .dataframe thead th {\n",
       "        text-align: right;\n",
       "    }\n",
       "</style>\n",
       "<table border=\"1\" class=\"dataframe\">\n",
       "  <thead>\n",
       "    <tr style=\"text-align: right;\">\n",
       "      <th></th>\n",
       "      <th>Symbol</th>\n",
       "      <th>StartDate</th>\n",
       "      <th>EBIT_ROIC</th>\n",
       "      <th>OCF_ROIC</th>\n",
       "      <th>FCF_ROIC</th>\n",
       "      <th>TangibleCapital</th>\n",
       "      <th>ebit_prior</th>\n",
       "      <th>ebit_chg</th>\n",
       "      <th>ocf_prior</th>\n",
       "      <th>ocf_chg</th>\n",
       "      <th>fcf_prior</th>\n",
       "      <th>fcf_chg</th>\n",
       "      <th>tangible_pctchg</th>\n",
       "    </tr>\n",
       "    <tr>\n",
       "      <th>Instance</th>\n",
       "      <th></th>\n",
       "      <th></th>\n",
       "      <th></th>\n",
       "      <th></th>\n",
       "      <th></th>\n",
       "      <th></th>\n",
       "      <th></th>\n",
       "      <th></th>\n",
       "      <th></th>\n",
       "      <th></th>\n",
       "      <th></th>\n",
       "      <th></th>\n",
       "      <th></th>\n",
       "    </tr>\n",
       "  </thead>\n",
       "  <tbody>\n",
       "    <tr>\n",
       "      <th>AAPL-US_12/31/2015</th>\n",
       "      <td>AAPL-US</td>\n",
       "      <td>12/31/2015</td>\n",
       "      <td>2.037599</td>\n",
       "      <td>2.485180</td>\n",
       "      <td>2.133867</td>\n",
       "      <td>32700.25000</td>\n",
       "      <td>NaN</td>\n",
       "      <td>NaN</td>\n",
       "      <td>NaN</td>\n",
       "      <td>NaN</td>\n",
       "      <td>NaN</td>\n",
       "      <td>NaN</td>\n",
       "      <td>NaN</td>\n",
       "    </tr>\n",
       "    <tr>\n",
       "      <th>AAPL-US_12/31/2016</th>\n",
       "      <td>AAPL-US</td>\n",
       "      <td>12/31/2016</td>\n",
       "      <td>1.900757</td>\n",
       "      <td>2.170523</td>\n",
       "      <td>1.723782</td>\n",
       "      <td>30326.33333</td>\n",
       "      <td>2.037599</td>\n",
       "      <td>-0.136842</td>\n",
       "      <td>2.485180</td>\n",
       "      <td>-0.314657</td>\n",
       "      <td>2.133867</td>\n",
       "      <td>-0.410085</td>\n",
       "      <td>-0.072596</td>\n",
       "    </tr>\n",
       "    <tr>\n",
       "      <th>AAPL-US_12/31/2017</th>\n",
       "      <td>AAPL-US</td>\n",
       "      <td>12/31/2017</td>\n",
       "      <td>1.752080</td>\n",
       "      <td>1.856280</td>\n",
       "      <td>1.482823</td>\n",
       "      <td>34261.00000</td>\n",
       "      <td>1.900757</td>\n",
       "      <td>-0.148678</td>\n",
       "      <td>2.170523</td>\n",
       "      <td>-0.314243</td>\n",
       "      <td>1.723782</td>\n",
       "      <td>-0.240959</td>\n",
       "      <td>0.129744</td>\n",
       "    </tr>\n",
       "    <tr>\n",
       "      <th>AAPL-US_12/31/2018</th>\n",
       "      <td>AAPL-US</td>\n",
       "      <td>12/31/2018</td>\n",
       "      <td>1.622862</td>\n",
       "      <td>1.768879</td>\n",
       "      <td>1.464761</td>\n",
       "      <td>43775.75000</td>\n",
       "      <td>1.752080</td>\n",
       "      <td>-0.129218</td>\n",
       "      <td>1.856280</td>\n",
       "      <td>-0.087401</td>\n",
       "      <td>1.482823</td>\n",
       "      <td>-0.018062</td>\n",
       "      <td>0.277714</td>\n",
       "    </tr>\n",
       "    <tr>\n",
       "      <th>AAPL-US_12/31/2019</th>\n",
       "      <td>AAPL-US</td>\n",
       "      <td>12/31/2019</td>\n",
       "      <td>1.246664</td>\n",
       "      <td>1.367876</td>\n",
       "      <td>1.160993</td>\n",
       "      <td>50729.00000</td>\n",
       "      <td>1.622862</td>\n",
       "      <td>-0.376198</td>\n",
       "      <td>1.768879</td>\n",
       "      <td>-0.401003</td>\n",
       "      <td>1.464761</td>\n",
       "      <td>-0.303768</td>\n",
       "      <td>0.158838</td>\n",
       "    </tr>\n",
       "    <tr>\n",
       "      <th>AAPL-US_12/31/2020</th>\n",
       "      <td>AAPL-US</td>\n",
       "      <td>12/31/2020</td>\n",
       "      <td>1.152953</td>\n",
       "      <td>1.423550</td>\n",
       "      <td>1.294577</td>\n",
       "      <td>56671.00000</td>\n",
       "      <td>1.246664</td>\n",
       "      <td>-0.093711</td>\n",
       "      <td>1.367876</td>\n",
       "      <td>0.055674</td>\n",
       "      <td>1.160993</td>\n",
       "      <td>0.133585</td>\n",
       "      <td>0.117132</td>\n",
       "    </tr>\n",
       "    <tr>\n",
       "      <th>AAPL-US_12/31/2021</th>\n",
       "      <td>AAPL-US</td>\n",
       "      <td>12/31/2021</td>\n",
       "      <td>2.016269</td>\n",
       "      <td>1.903889</td>\n",
       "      <td>1.701034</td>\n",
       "      <td>54645.00000</td>\n",
       "      <td>1.152953</td>\n",
       "      <td>0.863316</td>\n",
       "      <td>1.423550</td>\n",
       "      <td>0.480339</td>\n",
       "      <td>1.294577</td>\n",
       "      <td>0.406456</td>\n",
       "      <td>-0.035750</td>\n",
       "    </tr>\n",
       "    <tr>\n",
       "      <th>AAPL-US_5/6/2022</th>\n",
       "      <td>AAPL-US</td>\n",
       "      <td>5/6/2022</td>\n",
       "      <td>2.122241</td>\n",
       "      <td>2.066957</td>\n",
       "      <td>1.878185</td>\n",
       "      <td>56327.25000</td>\n",
       "      <td>2.016269</td>\n",
       "      <td>0.105972</td>\n",
       "      <td>1.903889</td>\n",
       "      <td>0.163068</td>\n",
       "      <td>1.701034</td>\n",
       "      <td>0.177151</td>\n",
       "      <td>0.030785</td>\n",
       "    </tr>\n",
       "  </tbody>\n",
       "</table>\n",
       "</div>"
      ],
      "text/plain": [
       "                     Symbol   StartDate  EBIT_ROIC  OCF_ROIC  FCF_ROIC  \\\n",
       "Instance                                                                 \n",
       "AAPL-US_12/31/2015  AAPL-US  12/31/2015   2.037599  2.485180  2.133867   \n",
       "AAPL-US_12/31/2016  AAPL-US  12/31/2016   1.900757  2.170523  1.723782   \n",
       "AAPL-US_12/31/2017  AAPL-US  12/31/2017   1.752080  1.856280  1.482823   \n",
       "AAPL-US_12/31/2018  AAPL-US  12/31/2018   1.622862  1.768879  1.464761   \n",
       "AAPL-US_12/31/2019  AAPL-US  12/31/2019   1.246664  1.367876  1.160993   \n",
       "AAPL-US_12/31/2020  AAPL-US  12/31/2020   1.152953  1.423550  1.294577   \n",
       "AAPL-US_12/31/2021  AAPL-US  12/31/2021   2.016269  1.903889  1.701034   \n",
       "AAPL-US_5/6/2022    AAPL-US    5/6/2022   2.122241  2.066957  1.878185   \n",
       "\n",
       "                    TangibleCapital  ebit_prior  ebit_chg  ocf_prior  \\\n",
       "Instance                                                               \n",
       "AAPL-US_12/31/2015      32700.25000         NaN       NaN        NaN   \n",
       "AAPL-US_12/31/2016      30326.33333    2.037599 -0.136842   2.485180   \n",
       "AAPL-US_12/31/2017      34261.00000    1.900757 -0.148678   2.170523   \n",
       "AAPL-US_12/31/2018      43775.75000    1.752080 -0.129218   1.856280   \n",
       "AAPL-US_12/31/2019      50729.00000    1.622862 -0.376198   1.768879   \n",
       "AAPL-US_12/31/2020      56671.00000    1.246664 -0.093711   1.367876   \n",
       "AAPL-US_12/31/2021      54645.00000    1.152953  0.863316   1.423550   \n",
       "AAPL-US_5/6/2022        56327.25000    2.016269  0.105972   1.903889   \n",
       "\n",
       "                     ocf_chg  fcf_prior   fcf_chg  tangible_pctchg  \n",
       "Instance                                                            \n",
       "AAPL-US_12/31/2015       NaN        NaN       NaN              NaN  \n",
       "AAPL-US_12/31/2016 -0.314657   2.133867 -0.410085        -0.072596  \n",
       "AAPL-US_12/31/2017 -0.314243   1.723782 -0.240959         0.129744  \n",
       "AAPL-US_12/31/2018 -0.087401   1.482823 -0.018062         0.277714  \n",
       "AAPL-US_12/31/2019 -0.401003   1.464761 -0.303768         0.158838  \n",
       "AAPL-US_12/31/2020  0.055674   1.160993  0.133585         0.117132  \n",
       "AAPL-US_12/31/2021  0.480339   1.294577  0.406456        -0.035750  \n",
       "AAPL-US_5/6/2022    0.163068   1.701034  0.177151         0.030785  "
      ]
     },
     "execution_count": 84,
     "metadata": {},
     "output_type": "execute_result"
    }
   ],
   "source": [
    "deltadf[deltadf.Symbol=='AAPL-US']"
   ]
  },
  {
   "cell_type": "code",
   "execution_count": 85,
   "metadata": {},
   "outputs": [],
   "source": [
    "#### Rename the columns to what I usually call these\n",
    "\n",
    "deltadf = deltadf.rename(columns={'ebit_chg':'EBIT_ROIC_Delta','ocf_chg':'OCF_ROIC_Delta',\n",
    "                       'fcf_chg':'FCF_ROIC_Delta','tangible_pctchg':'Capital_Growth'})"
   ]
  },
  {
   "cell_type": "code",
   "execution_count": 86,
   "metadata": {},
   "outputs": [],
   "source": [
    "#### what's the change in ROIC relative to the base value of ROIC?\n",
    "\n",
    "deltadf['EBIT_ROIC_rel'] = deltadf['EBIT_ROIC_Delta'] / deltadf['ebit_prior'] \n",
    "deltadf['OCF_ROIC_rel'] = deltadf['OCF_ROIC_Delta'] / deltadf['ocf_prior'] \n",
    "deltadf['FCF_ROIC_rel'] = deltadf['FCF_ROIC_Delta'] / deltadf['fcf_prior'] "
   ]
  },
  {
   "cell_type": "code",
   "execution_count": 87,
   "metadata": {},
   "outputs": [],
   "source": [
    "#### If a prior period's profits are negative, and the following year is positive,\n",
    "#### you get a negative growth rate calculated, even those it's massive positive growth.\n",
    "#### while flipping the sign isn't the perfect solution, the result is much closer\n",
    "#### to the ground truth of the situation than the straight calculation, which leads one\n",
    "#### in the exact opposite direction (where big improvement calcs to big negative growth rate)\n",
    "\n",
    "deltadf['EBIT_ROIC_rel'] = np.where((deltadf.ebit_prior < 0) & (deltadf.EBIT_ROIC > 0), \n",
    "                                    deltadf['EBIT_ROIC_rel'] * -1, deltadf['EBIT_ROIC_rel'])\n",
    "\n",
    "deltadf['OCF_ROIC_rel'] = np.where((deltadf.ocf_prior < 0) & (deltadf.OCF_ROIC > 0), \n",
    "                                    deltadf['OCF_ROIC_rel'] * -1, deltadf['OCF_ROIC_rel'])\n",
    "\n",
    "deltadf['FCF_ROIC_rel'] = np.where((deltadf.fcf_prior < 0) & (deltadf.FCF_ROIC > 0), \n",
    "                                    deltadf['FCF_ROIC_rel'] * -1, deltadf['FCF_ROIC_rel'])"
   ]
  },
  {
   "cell_type": "code",
   "execution_count": 88,
   "metadata": {},
   "outputs": [],
   "source": [
    "deltadf = deltadf.drop(['ebit_prior','ocf_prior','fcf_prior'], axis=1)"
   ]
  },
  {
   "cell_type": "code",
   "execution_count": 89,
   "metadata": {},
   "outputs": [],
   "source": [
    "#### Replace any empty values with NaN and then fill NaNs with zeros\n",
    "\n",
    "list_of_changes = ['EBIT_ROIC_Delta', 'OCF_ROIC_Delta','FCF_ROIC_Delta','Capital_Growth',\n",
    "                  'EBIT_ROIC_rel','OCF_ROIC_rel','FCF_ROIC_rel']\n",
    "\n",
    "for i in (list_of_changes):\n",
    "    deltadf[i] = deltadf[i].replace('', np.nan, regex=True)\n",
    "    deltadf[i] = deltadf[i].fillna(0)\n",
    "\n",
    "# deltadf['EBIT_ROIC_Delta'] = deltadf['EBIT_ROIC_Delta'].replace('', np.nan, regex=True)\n",
    "# deltadf['EBIT_ROIC_Delta'] = deltadf['EBIT_ROIC_Delta'].fillna(0)\n",
    "#"
   ]
  },
  {
   "cell_type": "code",
   "execution_count": 90,
   "metadata": {},
   "outputs": [],
   "source": [
    "#### Merge the delta dataframe with the main dataframe from before this section\n",
    "\n",
    "deltadf = deltadf.reset_index()\n",
    "deltadf = deltadf[['Instance','EBIT_ROIC_Delta','OCF_ROIC_Delta','FCF_ROIC_Delta','Capital_Growth',\n",
    "                   'EBIT_ROIC_rel','OCF_ROIC_rel','FCF_ROIC_rel']]\n",
    "\n",
    "roic_with_deltas = combined.reset_index()\n",
    "roic_with_deltas = pd.merge(roic_with_deltas,deltadf, on='Instance')\n",
    "roic_with_deltas = roic_with_deltas.set_index('Instance')\n",
    "\n",
    "# roic_with_deltas.shape"
   ]
  },
  {
   "cell_type": "markdown",
   "metadata": {},
   "source": [
    "# Lookup a Single Company and Track LTM and Last 5 Years"
   ]
  },
  {
   "cell_type": "code",
   "execution_count": 91,
   "metadata": {},
   "outputs": [],
   "source": [
    "# roic_pretty = roic_filtered.copy()"
   ]
  },
  {
   "cell_type": "code",
   "execution_count": 92,
   "metadata": {},
   "outputs": [],
   "source": [
    "# roic_pretty = combined.copy()"
   ]
  },
  {
   "cell_type": "code",
   "execution_count": 93,
   "metadata": {},
   "outputs": [],
   "source": [
    "roic_pretty = roic_with_deltas.copy()"
   ]
  },
  {
   "cell_type": "code",
   "execution_count": 94,
   "metadata": {},
   "outputs": [],
   "source": [
    "pd.set_option('display.max_rows', 500)"
   ]
  },
  {
   "cell_type": "code",
   "execution_count": 95,
   "metadata": {},
   "outputs": [],
   "source": [
    "# roic_pretty.dtypes"
   ]
  },
  {
   "cell_type": "code",
   "execution_count": 96,
   "metadata": {},
   "outputs": [],
   "source": [
    "roic_pretty = roic_pretty.drop('Cash.1', axis=1)"
   ]
  },
  {
   "cell_type": "code",
   "execution_count": 97,
   "metadata": {},
   "outputs": [],
   "source": [
    "roic_pretty = roic_pretty.reset_index()"
   ]
  },
  {
   "cell_type": "code",
   "execution_count": 98,
   "metadata": {},
   "outputs": [],
   "source": [
    "# roic_pretty = pd.concat([roic_pretty,roic_2016_2020], sort=True)"
   ]
  },
  {
   "cell_type": "code",
   "execution_count": 99,
   "metadata": {},
   "outputs": [],
   "source": [
    "roic_pretty = roic_pretty.set_index('Instance')"
   ]
  },
  {
   "cell_type": "code",
   "execution_count": 100,
   "metadata": {},
   "outputs": [],
   "source": [
    "## use a dictionary to define style formatting. it's more elegant than the attempt above\n",
    "\n",
    "format_dict = {'MarketCap':'{:,.0f}', 'Net_Cash':'{:,.0f}', 'R_D':'{:,.0f}',\n",
    "              'FCF_ROIC':'{:,.1%}', 'EBIT_ROIC':'{:,.1%}', 'ShareholderYield1':'{:,.1%}', \n",
    "              'DividendYield':'{:,.1%}','EBIT_EV':'{:,.1%}','FCF_RD_ROIC':'{:,.1%}',\n",
    "              'DownsideBeta3yr':'{:.2f}','Total_Return':'{:.2f}','RD_Cap':'{:.2f}',\n",
    "              'EBITGrowth5year':'{:,.1%}'}"
   ]
  },
  {
   "cell_type": "code",
   "execution_count": 101,
   "metadata": {},
   "outputs": [],
   "source": [
    "list_of_whole_numbers = ['Sales', 'EBIT', 'OCF', 'CurrentAssets', 'Cash', 'LT_Debt', 'AccountsPayable',\n",
    "                        'NetFixedAssets', 'TangibleCapital', 'RD', 'FCF','MarketCap','Capex','OCF_RD']\n",
    "\n",
    "list_of_percentages = ['EBIT_ROIC', 'OCF_ROIC', 'ROA', 'FCF_ROIC', 'FCF_RD_ROIC', 'RD_Cap','RD_Sales',\n",
    "                      'ShareholderYield1', 'DividendYield', 'EBIT_EV','OCF_EV','FCF_EV','EBIT_RD_EV',\n",
    "                       'OCF_RD_EV','FCF_RD_EV', 'OCF_RD_ROIC', 'EBITGrowth1year', 'EBITGrowth3year',\n",
    "                       'EBITGrowth5year', 'SalesGrowth1year','SalesGrowth3year', 'SalesGrowth5year',\n",
    "                       'OCFGrowth1year','OCFGrowth3year', 'OCFGrowth5year',\n",
    "                       'EBIT_ROIC_Delta','OCF_ROIC_Delta','FCF_ROIC_Delta','Capital_Growth',\n",
    "                      'EBIT_ROIC_rel','OCF_ROIC_rel','FCF_ROIC_rel']\n",
    "\n",
    "list_of_floats = ['DownsideBeta', 'UpsideBeta','Beta']\n",
    "\n",
    "for i in list_of_whole_numbers:\n",
    "    roic_pretty[i] = roic_pretty[i].round(0).astype(int).map(\"{:,}\".format)\n",
    "    \n",
    "for j in list_of_percentages:\n",
    "    roic_pretty[j] = roic_pretty[j].astype(float).map(\"{:,.1%}\".format)\n",
    "    \n",
    "for f in list_of_floats:\n",
    "    roic_pretty[f] = roic_pretty[f].astype(float).map('{0:.2f}'.format)\n",
    "    \n",
    "#'{0:.2f}'\n",
    "# \"{:,.3}\""
   ]
  },
  {
   "cell_type": "code",
   "execution_count": 102,
   "metadata": {},
   "outputs": [],
   "source": [
    "roic_pretty['StartDate'] = pd.to_datetime(roic_pretty['StartDate']) "
   ]
  },
  {
   "cell_type": "code",
   "execution_count": 103,
   "metadata": {},
   "outputs": [],
   "source": [
    "# roic_pretty[roic_pretty.Symbol == 'NFLX-US'].sort_values('StartDate', ascending=False)\\\n",
    "# [['Sales','EBIT', 'EBIT_ROIC', 'OCF', 'OCF_ROIC','ROA','CurrentAssets','Cash','LT_Debt','AccountsPayable', \n",
    "# 'NetFixedAssets', 'TangibleCapital']].T"
   ]
  },
  {
   "cell_type": "code",
   "execution_count": 104,
   "metadata": {},
   "outputs": [],
   "source": [
    "# roic_pretty[roic_pretty.Symbol == 'NFLX-US'].sort_values('StartDate', ascending=False)\\\n",
    "# [['Sales','EBIT', 'EBIT_ROIC', 'OCF', 'OCF_ROIC','ROA','CurrentAssets','Cash','LT_Debt','AccountsPayable', \n",
    "# 'NetFixedAssets', 'TangibleCapital']].head().T"
   ]
  },
  {
   "cell_type": "code",
   "execution_count": 105,
   "metadata": {},
   "outputs": [
    {
     "data": {
      "text/plain": [
       "(23132, 103)"
      ]
     },
     "execution_count": 105,
     "metadata": {},
     "output_type": "execute_result"
    }
   ],
   "source": [
    "roic_pretty.shape"
   ]
  },
  {
   "cell_type": "code",
   "execution_count": 106,
   "metadata": {},
   "outputs": [],
   "source": [
    "roic_pretty = roic_pretty.rename(columns={'AccountsPayable':'ActPay', 'CurrentAssets':'CurrAssets',\n",
    "                                         'NetFixedAssets':'NetFixed', 'EBITGrowth1year':'EBITGrowth-1y', \n",
    "                                          'EBITGrowth3year':'EBITGrowth-3y', 'SalesGrowth1year':'SalesGrowth-1y',\n",
    "                                          'SalesGrowth3year':'SalesGrowth-3y','OCFGrowth1year':'OCFGrowth-1y',\n",
    "                                          'OCFGrowth3year':'OCFGrowth-3y'})"
   ]
  },
  {
   "cell_type": "code",
   "execution_count": 107,
   "metadata": {},
   "outputs": [],
   "source": [
    "# roic_pretty.columns"
   ]
  },
  {
   "cell_type": "code",
   "execution_count": 108,
   "metadata": {},
   "outputs": [],
   "source": [
    "# import pickle\n",
    "# roic_pretty.to_pickle('roic_r3k_2022-deltas-ltm-20220506.pkl')"
   ]
  },
  {
   "cell_type": "code",
   "execution_count": 109,
   "metadata": {},
   "outputs": [],
   "source": [
    "# roic_pretty[roic_pretty.StartDate=='12-3-2021'][['Sales','EBIT','OCF']].head(20)"
   ]
  },
  {
   "cell_type": "code",
   "execution_count": 110,
   "metadata": {},
   "outputs": [],
   "source": [
    "# roic_pretty.loc[roic_pretty['Company_Name'].str.contains('Ford',True)]['Symbol'].head(1)[0]"
   ]
  },
  {
   "cell_type": "markdown",
   "metadata": {},
   "source": [
    "<a id='Final_Output'></a>"
   ]
  },
  {
   "cell_type": "markdown",
   "metadata": {},
   "source": [
    "## Type in Symbol"
   ]
  },
  {
   "cell_type": "code",
   "execution_count": 111,
   "metadata": {},
   "outputs": [],
   "source": [
    "lookup_symbol = 'PG-US'"
   ]
  },
  {
   "cell_type": "code",
   "execution_count": 112,
   "metadata": {},
   "outputs": [
    {
     "data": {
      "text/html": [
       "<div>\n",
       "<style scoped>\n",
       "    .dataframe tbody tr th:only-of-type {\n",
       "        vertical-align: middle;\n",
       "    }\n",
       "\n",
       "    .dataframe tbody tr th {\n",
       "        vertical-align: top;\n",
       "    }\n",
       "\n",
       "    .dataframe thead th {\n",
       "        text-align: right;\n",
       "    }\n",
       "</style>\n",
       "<table border=\"1\" class=\"dataframe\">\n",
       "  <thead>\n",
       "    <tr style=\"text-align: right;\">\n",
       "      <th></th>\n",
       "      <th>Company_Name</th>\n",
       "    </tr>\n",
       "    <tr>\n",
       "      <th>Instance</th>\n",
       "      <th></th>\n",
       "    </tr>\n",
       "  </thead>\n",
       "  <tbody>\n",
       "    <tr>\n",
       "      <th>PG-US_5/6/2022</th>\n",
       "      <td>Procter &amp; Gamble Company</td>\n",
       "    </tr>\n",
       "  </tbody>\n",
       "</table>\n",
       "</div>"
      ],
      "text/plain": [
       "                            Company_Name\n",
       "Instance                                \n",
       "PG-US_5/6/2022  Procter & Gamble Company"
      ]
     },
     "execution_count": 112,
     "metadata": {},
     "output_type": "execute_result"
    }
   ],
   "source": [
    "roic_pretty[(roic_pretty.Symbol==lookup_symbol)]\\\n",
    "[['Company_Name']].tail(1)"
   ]
  },
  {
   "cell_type": "code",
   "execution_count": 113,
   "metadata": {},
   "outputs": [
    {
     "data": {
      "text/html": [
       "<div>\n",
       "<style scoped>\n",
       "    .dataframe tbody tr th:only-of-type {\n",
       "        vertical-align: middle;\n",
       "    }\n",
       "\n",
       "    .dataframe tbody tr th {\n",
       "        vertical-align: top;\n",
       "    }\n",
       "\n",
       "    .dataframe thead th {\n",
       "        text-align: right;\n",
       "    }\n",
       "</style>\n",
       "<table border=\"1\" class=\"dataframe\">\n",
       "  <thead>\n",
       "    <tr style=\"text-align: right;\">\n",
       "      <th></th>\n",
       "      <th>MarketCap</th>\n",
       "    </tr>\n",
       "    <tr>\n",
       "      <th>Instance</th>\n",
       "      <th></th>\n",
       "    </tr>\n",
       "  </thead>\n",
       "  <tbody>\n",
       "    <tr>\n",
       "      <th>PG-US_5/6/2022</th>\n",
       "      <td>374,291</td>\n",
       "    </tr>\n",
       "    <tr>\n",
       "      <th>PG-US_12/31/2021</th>\n",
       "      <td>395,855</td>\n",
       "    </tr>\n",
       "    <tr>\n",
       "      <th>PG-US_12/31/2020</th>\n",
       "      <td>345,012</td>\n",
       "    </tr>\n",
       "    <tr>\n",
       "      <th>PG-US_12/31/2019</th>\n",
       "      <td>308,435</td>\n",
       "    </tr>\n",
       "    <tr>\n",
       "      <th>PG-US_12/31/2018</th>\n",
       "      <td>229,945</td>\n",
       "    </tr>\n",
       "    <tr>\n",
       "      <th>PG-US_12/31/2017</th>\n",
       "      <td>231,630</td>\n",
       "    </tr>\n",
       "    <tr>\n",
       "      <th>PG-US_12/31/2016</th>\n",
       "      <td>214,949</td>\n",
       "    </tr>\n",
       "    <tr>\n",
       "      <th>PG-US_12/31/2015</th>\n",
       "      <td>214,770</td>\n",
       "    </tr>\n",
       "  </tbody>\n",
       "</table>\n",
       "</div>"
      ],
      "text/plain": [
       "                 MarketCap\n",
       "Instance                  \n",
       "PG-US_5/6/2022     374,291\n",
       "PG-US_12/31/2021   395,855\n",
       "PG-US_12/31/2020   345,012\n",
       "PG-US_12/31/2019   308,435\n",
       "PG-US_12/31/2018   229,945\n",
       "PG-US_12/31/2017   231,630\n",
       "PG-US_12/31/2016   214,949\n",
       "PG-US_12/31/2015   214,770"
      ]
     },
     "execution_count": 113,
     "metadata": {},
     "output_type": "execute_result"
    }
   ],
   "source": [
    "roic_pretty[(roic_pretty.Symbol==lookup_symbol)]\\\n",
    ".sort_values('StartDate', ascending=False)\\\n",
    "[['MarketCap']]"
   ]
  },
  {
   "cell_type": "markdown",
   "metadata": {},
   "source": [
    "# Results"
   ]
  },
  {
   "cell_type": "code",
   "execution_count": 114,
   "metadata": {},
   "outputs": [
    {
     "data": {
      "text/html": [
       "<div>\n",
       "<style scoped>\n",
       "    .dataframe tbody tr th:only-of-type {\n",
       "        vertical-align: middle;\n",
       "    }\n",
       "\n",
       "    .dataframe tbody tr th {\n",
       "        vertical-align: top;\n",
       "    }\n",
       "\n",
       "    .dataframe thead th {\n",
       "        text-align: right;\n",
       "    }\n",
       "</style>\n",
       "<table border=\"1\" class=\"dataframe\">\n",
       "  <thead>\n",
       "    <tr style=\"text-align: right;\">\n",
       "      <th></th>\n",
       "      <th>Sales</th>\n",
       "      <th>EBIT</th>\n",
       "      <th>EBIT_ROIC</th>\n",
       "      <th>OCF</th>\n",
       "      <th>OCF_ROIC</th>\n",
       "      <th>ROA</th>\n",
       "      <th>CurrAssets</th>\n",
       "      <th>Cash</th>\n",
       "      <th>LT_Debt</th>\n",
       "      <th>ActPay</th>\n",
       "      <th>NetFixed</th>\n",
       "      <th>TangibleCapital</th>\n",
       "    </tr>\n",
       "    <tr>\n",
       "      <th>Instance</th>\n",
       "      <th></th>\n",
       "      <th></th>\n",
       "      <th></th>\n",
       "      <th></th>\n",
       "      <th></th>\n",
       "      <th></th>\n",
       "      <th></th>\n",
       "      <th></th>\n",
       "      <th></th>\n",
       "      <th></th>\n",
       "      <th></th>\n",
       "      <th></th>\n",
       "    </tr>\n",
       "  </thead>\n",
       "  <tbody>\n",
       "    <tr>\n",
       "      <th>PG-US_5/6/2022</th>\n",
       "      <td>79,618</td>\n",
       "      <td>18,244</td>\n",
       "      <td>84.9%</td>\n",
       "      <td>17,131</td>\n",
       "      <td>79.7%</td>\n",
       "      <td>12.1%</td>\n",
       "      <td>24,097</td>\n",
       "      <td>10,182</td>\n",
       "      <td>22,594</td>\n",
       "      <td>14,068</td>\n",
       "      <td>21,642</td>\n",
       "      <td>21,488</td>\n",
       "    </tr>\n",
       "    <tr>\n",
       "      <th>PG-US_12/31/2021</th>\n",
       "      <td>77,138</td>\n",
       "      <td>18,353</td>\n",
       "      <td>88.5%</td>\n",
       "      <td>18,275</td>\n",
       "      <td>85.0%</td>\n",
       "      <td>11.9%</td>\n",
       "      <td>23,805</td>\n",
       "      <td>10,595</td>\n",
       "      <td>21,683</td>\n",
       "      <td>13,265</td>\n",
       "      <td>21,559</td>\n",
       "      <td>21,504</td>\n",
       "    </tr>\n",
       "    <tr>\n",
       "      <th>PG-US_12/31/2020</th>\n",
       "      <td>72,470</td>\n",
       "      <td>16,984</td>\n",
       "      <td>75.9%</td>\n",
       "      <td>17,973</td>\n",
       "      <td>80.4%</td>\n",
       "      <td>11.6%</td>\n",
       "      <td>25,018</td>\n",
       "      <td>12,811</td>\n",
       "      <td>22,938</td>\n",
       "      <td>11,313</td>\n",
       "      <td>21,471</td>\n",
       "      <td>22,365</td>\n",
       "    </tr>\n",
       "    <tr>\n",
       "      <th>PG-US_12/31/2019</th>\n",
       "      <td>68,792</td>\n",
       "      <td>15,290</td>\n",
       "      <td>66.6%</td>\n",
       "      <td>15,844</td>\n",
       "      <td>69.0%</td>\n",
       "      <td>3.6%</td>\n",
       "      <td>22,785</td>\n",
       "      <td>10,383</td>\n",
       "      <td>21,015</td>\n",
       "      <td>10,671</td>\n",
       "      <td>21,218</td>\n",
       "      <td>22,950</td>\n",
       "    </tr>\n",
       "    <tr>\n",
       "      <th>PG-US_12/31/2018</th>\n",
       "      <td>66,869</td>\n",
       "      <td>14,579</td>\n",
       "      <td>64.1%</td>\n",
       "      <td>14,803</td>\n",
       "      <td>65.1%</td>\n",
       "      <td>8.3%</td>\n",
       "      <td>26,460</td>\n",
       "      <td>14,349</td>\n",
       "      <td>21,566</td>\n",
       "      <td>10,011</td>\n",
       "      <td>20,634</td>\n",
       "      <td>22,734</td>\n",
       "    </tr>\n",
       "    <tr>\n",
       "      <th>PG-US_12/31/2017</th>\n",
       "      <td>65,193</td>\n",
       "      <td>14,512</td>\n",
       "      <td>64.7%</td>\n",
       "      <td>13,359</td>\n",
       "      <td>59.6%</td>\n",
       "      <td>8.5%</td>\n",
       "      <td>26,512</td>\n",
       "      <td>14,731</td>\n",
       "      <td>17,830</td>\n",
       "      <td>8,866</td>\n",
       "      <td>19,500</td>\n",
       "      <td>22,414</td>\n",
       "    </tr>\n",
       "    <tr>\n",
       "      <th>PG-US_12/31/2016</th>\n",
       "      <td>65,290</td>\n",
       "      <td>14,552</td>\n",
       "      <td>47.5%</td>\n",
       "      <td>14,922</td>\n",
       "      <td>48.7%</td>\n",
       "      <td>7.8%</td>\n",
       "      <td>34,423</td>\n",
       "      <td>14,369</td>\n",
       "      <td>18,996</td>\n",
       "      <td>8,715</td>\n",
       "      <td>19,294</td>\n",
       "      <td>30,633</td>\n",
       "    </tr>\n",
       "    <tr>\n",
       "      <th>PG-US_12/31/2015</th>\n",
       "      <td>72,620</td>\n",
       "      <td>15,394</td>\n",
       "      <td>47.6%</td>\n",
       "      <td>14,513</td>\n",
       "      <td>44.8%</td>\n",
       "      <td>6.7%</td>\n",
       "      <td>32,502</td>\n",
       "      <td>12,407</td>\n",
       "      <td>17,803</td>\n",
       "      <td>7,758</td>\n",
       "      <td>20,034</td>\n",
       "      <td>32,370</td>\n",
       "    </tr>\n",
       "  </tbody>\n",
       "</table>\n",
       "</div>"
      ],
      "text/plain": [
       "                   Sales    EBIT EBIT_ROIC     OCF OCF_ROIC    ROA CurrAssets  \\\n",
       "Instance                                                                        \n",
       "PG-US_5/6/2022    79,618  18,244     84.9%  17,131    79.7%  12.1%     24,097   \n",
       "PG-US_12/31/2021  77,138  18,353     88.5%  18,275    85.0%  11.9%     23,805   \n",
       "PG-US_12/31/2020  72,470  16,984     75.9%  17,973    80.4%  11.6%     25,018   \n",
       "PG-US_12/31/2019  68,792  15,290     66.6%  15,844    69.0%   3.6%     22,785   \n",
       "PG-US_12/31/2018  66,869  14,579     64.1%  14,803    65.1%   8.3%     26,460   \n",
       "PG-US_12/31/2017  65,193  14,512     64.7%  13,359    59.6%   8.5%     26,512   \n",
       "PG-US_12/31/2016  65,290  14,552     47.5%  14,922    48.7%   7.8%     34,423   \n",
       "PG-US_12/31/2015  72,620  15,394     47.6%  14,513    44.8%   6.7%     32,502   \n",
       "\n",
       "                    Cash LT_Debt  ActPay NetFixed TangibleCapital  \n",
       "Instance                                                           \n",
       "PG-US_5/6/2022    10,182  22,594  14,068   21,642          21,488  \n",
       "PG-US_12/31/2021  10,595  21,683  13,265   21,559          21,504  \n",
       "PG-US_12/31/2020  12,811  22,938  11,313   21,471          22,365  \n",
       "PG-US_12/31/2019  10,383  21,015  10,671   21,218          22,950  \n",
       "PG-US_12/31/2018  14,349  21,566  10,011   20,634          22,734  \n",
       "PG-US_12/31/2017  14,731  17,830   8,866   19,500          22,414  \n",
       "PG-US_12/31/2016  14,369  18,996   8,715   19,294          30,633  \n",
       "PG-US_12/31/2015  12,407  17,803   7,758   20,034          32,370  "
      ]
     },
     "execution_count": 114,
     "metadata": {},
     "output_type": "execute_result"
    }
   ],
   "source": [
    "roic_pretty[roic_pretty.Symbol == lookup_symbol]\\\n",
    ".sort_values('StartDate', ascending=False)\\\n",
    "[['Sales','EBIT', 'EBIT_ROIC', 'OCF', 'OCF_ROIC','ROA',\n",
    "'CurrAssets','Cash','LT_Debt','ActPay','NetFixed', 'TangibleCapital']]"
   ]
  },
  {
   "cell_type": "markdown",
   "metadata": {},
   "source": [
    "## Deltas"
   ]
  },
  {
   "cell_type": "code",
   "execution_count": 115,
   "metadata": {},
   "outputs": [
    {
     "data": {
      "text/html": [
       "<div>\n",
       "<style scoped>\n",
       "    .dataframe tbody tr th:only-of-type {\n",
       "        vertical-align: middle;\n",
       "    }\n",
       "\n",
       "    .dataframe tbody tr th {\n",
       "        vertical-align: top;\n",
       "    }\n",
       "\n",
       "    .dataframe thead th {\n",
       "        text-align: right;\n",
       "    }\n",
       "</style>\n",
       "<table border=\"1\" class=\"dataframe\">\n",
       "  <thead>\n",
       "    <tr style=\"text-align: right;\">\n",
       "      <th></th>\n",
       "      <th>OCF</th>\n",
       "      <th>OCFGrowth-1y</th>\n",
       "      <th>OCF_ROIC</th>\n",
       "      <th>OCF_ROIC_Delta</th>\n",
       "      <th>TangibleCapital</th>\n",
       "      <th>Capital_Growth</th>\n",
       "    </tr>\n",
       "    <tr>\n",
       "      <th>Instance</th>\n",
       "      <th></th>\n",
       "      <th></th>\n",
       "      <th></th>\n",
       "      <th></th>\n",
       "      <th></th>\n",
       "      <th></th>\n",
       "    </tr>\n",
       "  </thead>\n",
       "  <tbody>\n",
       "    <tr>\n",
       "      <th>PG-US_5/6/2022</th>\n",
       "      <td>17,131</td>\n",
       "      <td>-10.1%</td>\n",
       "      <td>79.7%</td>\n",
       "      <td>-5.3%</td>\n",
       "      <td>21,488</td>\n",
       "      <td>-0.1%</td>\n",
       "    </tr>\n",
       "    <tr>\n",
       "      <th>PG-US_12/31/2021</th>\n",
       "      <td>18,275</td>\n",
       "      <td>1.7%</td>\n",
       "      <td>85.0%</td>\n",
       "      <td>4.6%</td>\n",
       "      <td>21,504</td>\n",
       "      <td>-3.8%</td>\n",
       "    </tr>\n",
       "    <tr>\n",
       "      <th>PG-US_12/31/2020</th>\n",
       "      <td>17,973</td>\n",
       "      <td>13.4%</td>\n",
       "      <td>80.4%</td>\n",
       "      <td>11.3%</td>\n",
       "      <td>22,365</td>\n",
       "      <td>-2.6%</td>\n",
       "    </tr>\n",
       "    <tr>\n",
       "      <th>PG-US_12/31/2019</th>\n",
       "      <td>15,844</td>\n",
       "      <td>7.0%</td>\n",
       "      <td>69.0%</td>\n",
       "      <td>3.9%</td>\n",
       "      <td>22,950</td>\n",
       "      <td>0.9%</td>\n",
       "    </tr>\n",
       "    <tr>\n",
       "      <th>PG-US_12/31/2018</th>\n",
       "      <td>14,803</td>\n",
       "      <td>10.8%</td>\n",
       "      <td>65.1%</td>\n",
       "      <td>5.5%</td>\n",
       "      <td>22,734</td>\n",
       "      <td>1.4%</td>\n",
       "    </tr>\n",
       "    <tr>\n",
       "      <th>PG-US_12/31/2017</th>\n",
       "      <td>13,359</td>\n",
       "      <td>-10.5%</td>\n",
       "      <td>59.6%</td>\n",
       "      <td>10.9%</td>\n",
       "      <td>22,414</td>\n",
       "      <td>-26.8%</td>\n",
       "    </tr>\n",
       "    <tr>\n",
       "      <th>PG-US_12/31/2016</th>\n",
       "      <td>14,922</td>\n",
       "      <td>2.8%</td>\n",
       "      <td>48.7%</td>\n",
       "      <td>3.9%</td>\n",
       "      <td>30,633</td>\n",
       "      <td>-5.4%</td>\n",
       "    </tr>\n",
       "    <tr>\n",
       "      <th>PG-US_12/31/2015</th>\n",
       "      <td>14,513</td>\n",
       "      <td>-6.7%</td>\n",
       "      <td>44.8%</td>\n",
       "      <td>0.0%</td>\n",
       "      <td>32,370</td>\n",
       "      <td>0.0%</td>\n",
       "    </tr>\n",
       "  </tbody>\n",
       "</table>\n",
       "</div>"
      ],
      "text/plain": [
       "                     OCF OCFGrowth-1y OCF_ROIC OCF_ROIC_Delta TangibleCapital  \\\n",
       "Instance                                                                        \n",
       "PG-US_5/6/2022    17,131       -10.1%    79.7%          -5.3%          21,488   \n",
       "PG-US_12/31/2021  18,275         1.7%    85.0%           4.6%          21,504   \n",
       "PG-US_12/31/2020  17,973        13.4%    80.4%          11.3%          22,365   \n",
       "PG-US_12/31/2019  15,844         7.0%    69.0%           3.9%          22,950   \n",
       "PG-US_12/31/2018  14,803        10.8%    65.1%           5.5%          22,734   \n",
       "PG-US_12/31/2017  13,359       -10.5%    59.6%          10.9%          22,414   \n",
       "PG-US_12/31/2016  14,922         2.8%    48.7%           3.9%          30,633   \n",
       "PG-US_12/31/2015  14,513        -6.7%    44.8%           0.0%          32,370   \n",
       "\n",
       "                 Capital_Growth  \n",
       "Instance                         \n",
       "PG-US_5/6/2022            -0.1%  \n",
       "PG-US_12/31/2021          -3.8%  \n",
       "PG-US_12/31/2020          -2.6%  \n",
       "PG-US_12/31/2019           0.9%  \n",
       "PG-US_12/31/2018           1.4%  \n",
       "PG-US_12/31/2017         -26.8%  \n",
       "PG-US_12/31/2016          -5.4%  \n",
       "PG-US_12/31/2015           0.0%  "
      ]
     },
     "execution_count": 115,
     "metadata": {},
     "output_type": "execute_result"
    }
   ],
   "source": [
    "roic_pretty[roic_pretty.Symbol == lookup_symbol]\\\n",
    ".sort_values('StartDate', ascending=False)\\\n",
    "[['OCF', 'OCFGrowth-1y', 'OCF_ROIC', 'OCF_ROIC_Delta', 'TangibleCapital', 'Capital_Growth']]"
   ]
  },
  {
   "cell_type": "code",
   "execution_count": 116,
   "metadata": {},
   "outputs": [
    {
     "data": {
      "text/html": [
       "<div>\n",
       "<style scoped>\n",
       "    .dataframe tbody tr th:only-of-type {\n",
       "        vertical-align: middle;\n",
       "    }\n",
       "\n",
       "    .dataframe tbody tr th {\n",
       "        vertical-align: top;\n",
       "    }\n",
       "\n",
       "    .dataframe thead th {\n",
       "        text-align: right;\n",
       "    }\n",
       "</style>\n",
       "<table border=\"1\" class=\"dataframe\">\n",
       "  <thead>\n",
       "    <tr style=\"text-align: right;\">\n",
       "      <th></th>\n",
       "      <th>OCF</th>\n",
       "      <th>OCFGrowth-1y</th>\n",
       "      <th>OCF_ROIC</th>\n",
       "      <th>OCF_ROIC_Delta</th>\n",
       "      <th>OCF_ROIC_rel</th>\n",
       "      <th>TangibleCapital</th>\n",
       "      <th>Capital_Growth</th>\n",
       "    </tr>\n",
       "    <tr>\n",
       "      <th>Instance</th>\n",
       "      <th></th>\n",
       "      <th></th>\n",
       "      <th></th>\n",
       "      <th></th>\n",
       "      <th></th>\n",
       "      <th></th>\n",
       "      <th></th>\n",
       "    </tr>\n",
       "  </thead>\n",
       "  <tbody>\n",
       "    <tr>\n",
       "      <th>PG-US_5/6/2022</th>\n",
       "      <td>17,131</td>\n",
       "      <td>-10.1%</td>\n",
       "      <td>79.7%</td>\n",
       "      <td>-5.3%</td>\n",
       "      <td>-6.2%</td>\n",
       "      <td>21,488</td>\n",
       "      <td>-0.1%</td>\n",
       "    </tr>\n",
       "    <tr>\n",
       "      <th>PG-US_12/31/2021</th>\n",
       "      <td>18,275</td>\n",
       "      <td>1.7%</td>\n",
       "      <td>85.0%</td>\n",
       "      <td>4.6%</td>\n",
       "      <td>5.8%</td>\n",
       "      <td>21,504</td>\n",
       "      <td>-3.8%</td>\n",
       "    </tr>\n",
       "    <tr>\n",
       "      <th>PG-US_12/31/2020</th>\n",
       "      <td>17,973</td>\n",
       "      <td>13.4%</td>\n",
       "      <td>80.4%</td>\n",
       "      <td>11.3%</td>\n",
       "      <td>16.4%</td>\n",
       "      <td>22,365</td>\n",
       "      <td>-2.6%</td>\n",
       "    </tr>\n",
       "    <tr>\n",
       "      <th>PG-US_12/31/2019</th>\n",
       "      <td>15,844</td>\n",
       "      <td>7.0%</td>\n",
       "      <td>69.0%</td>\n",
       "      <td>3.9%</td>\n",
       "      <td>6.0%</td>\n",
       "      <td>22,950</td>\n",
       "      <td>0.9%</td>\n",
       "    </tr>\n",
       "    <tr>\n",
       "      <th>PG-US_12/31/2018</th>\n",
       "      <td>14,803</td>\n",
       "      <td>10.8%</td>\n",
       "      <td>65.1%</td>\n",
       "      <td>5.5%</td>\n",
       "      <td>9.2%</td>\n",
       "      <td>22,734</td>\n",
       "      <td>1.4%</td>\n",
       "    </tr>\n",
       "    <tr>\n",
       "      <th>PG-US_12/31/2017</th>\n",
       "      <td>13,359</td>\n",
       "      <td>-10.5%</td>\n",
       "      <td>59.6%</td>\n",
       "      <td>10.9%</td>\n",
       "      <td>22.4%</td>\n",
       "      <td>22,414</td>\n",
       "      <td>-26.8%</td>\n",
       "    </tr>\n",
       "    <tr>\n",
       "      <th>PG-US_12/31/2016</th>\n",
       "      <td>14,922</td>\n",
       "      <td>2.8%</td>\n",
       "      <td>48.7%</td>\n",
       "      <td>3.9%</td>\n",
       "      <td>8.6%</td>\n",
       "      <td>30,633</td>\n",
       "      <td>-5.4%</td>\n",
       "    </tr>\n",
       "    <tr>\n",
       "      <th>PG-US_12/31/2015</th>\n",
       "      <td>14,513</td>\n",
       "      <td>-6.7%</td>\n",
       "      <td>44.8%</td>\n",
       "      <td>0.0%</td>\n",
       "      <td>0.0%</td>\n",
       "      <td>32,370</td>\n",
       "      <td>0.0%</td>\n",
       "    </tr>\n",
       "  </tbody>\n",
       "</table>\n",
       "</div>"
      ],
      "text/plain": [
       "                     OCF OCFGrowth-1y OCF_ROIC OCF_ROIC_Delta OCF_ROIC_rel  \\\n",
       "Instance                                                                     \n",
       "PG-US_5/6/2022    17,131       -10.1%    79.7%          -5.3%        -6.2%   \n",
       "PG-US_12/31/2021  18,275         1.7%    85.0%           4.6%         5.8%   \n",
       "PG-US_12/31/2020  17,973        13.4%    80.4%          11.3%        16.4%   \n",
       "PG-US_12/31/2019  15,844         7.0%    69.0%           3.9%         6.0%   \n",
       "PG-US_12/31/2018  14,803        10.8%    65.1%           5.5%         9.2%   \n",
       "PG-US_12/31/2017  13,359       -10.5%    59.6%          10.9%        22.4%   \n",
       "PG-US_12/31/2016  14,922         2.8%    48.7%           3.9%         8.6%   \n",
       "PG-US_12/31/2015  14,513        -6.7%    44.8%           0.0%         0.0%   \n",
       "\n",
       "                 TangibleCapital Capital_Growth  \n",
       "Instance                                         \n",
       "PG-US_5/6/2022            21,488          -0.1%  \n",
       "PG-US_12/31/2021          21,504          -3.8%  \n",
       "PG-US_12/31/2020          22,365          -2.6%  \n",
       "PG-US_12/31/2019          22,950           0.9%  \n",
       "PG-US_12/31/2018          22,734           1.4%  \n",
       "PG-US_12/31/2017          22,414         -26.8%  \n",
       "PG-US_12/31/2016          30,633          -5.4%  \n",
       "PG-US_12/31/2015          32,370           0.0%  "
      ]
     },
     "execution_count": 116,
     "metadata": {},
     "output_type": "execute_result"
    }
   ],
   "source": [
    "roic_pretty[roic_pretty.Symbol == lookup_symbol]\\\n",
    ".sort_values('StartDate', ascending=False)\\\n",
    "[['OCF', 'OCFGrowth-1y', 'OCF_ROIC', 'OCF_ROIC_Delta', 'OCF_ROIC_rel', 'TangibleCapital', 'Capital_Growth']]\n",
    "\n",
    "#  'EBIT_ROIC_rel','OCF_ROIC_rel','FCF_ROIC_rel'"
   ]
  },
  {
   "cell_type": "code",
   "execution_count": 117,
   "metadata": {},
   "outputs": [
    {
     "data": {
      "text/html": [
       "<div>\n",
       "<style scoped>\n",
       "    .dataframe tbody tr th:only-of-type {\n",
       "        vertical-align: middle;\n",
       "    }\n",
       "\n",
       "    .dataframe tbody tr th {\n",
       "        vertical-align: top;\n",
       "    }\n",
       "\n",
       "    .dataframe thead th {\n",
       "        text-align: right;\n",
       "    }\n",
       "</style>\n",
       "<table border=\"1\" class=\"dataframe\">\n",
       "  <thead>\n",
       "    <tr style=\"text-align: right;\">\n",
       "      <th></th>\n",
       "      <th>OCF</th>\n",
       "      <th>OCFGrowth-1y</th>\n",
       "      <th>EBIT_ROIC</th>\n",
       "      <th>EBIT_ROIC_Delta</th>\n",
       "      <th>EBIT_ROIC_rel</th>\n",
       "      <th>TangibleCapital</th>\n",
       "      <th>Capital_Growth</th>\n",
       "    </tr>\n",
       "    <tr>\n",
       "      <th>Instance</th>\n",
       "      <th></th>\n",
       "      <th></th>\n",
       "      <th></th>\n",
       "      <th></th>\n",
       "      <th></th>\n",
       "      <th></th>\n",
       "      <th></th>\n",
       "    </tr>\n",
       "  </thead>\n",
       "  <tbody>\n",
       "    <tr>\n",
       "      <th>PG-US_5/6/2022</th>\n",
       "      <td>17,131</td>\n",
       "      <td>-10.1%</td>\n",
       "      <td>84.9%</td>\n",
       "      <td>-3.6%</td>\n",
       "      <td>-4.0%</td>\n",
       "      <td>21,488</td>\n",
       "      <td>-0.1%</td>\n",
       "    </tr>\n",
       "    <tr>\n",
       "      <th>PG-US_12/31/2021</th>\n",
       "      <td>18,275</td>\n",
       "      <td>1.7%</td>\n",
       "      <td>88.5%</td>\n",
       "      <td>12.5%</td>\n",
       "      <td>16.5%</td>\n",
       "      <td>21,504</td>\n",
       "      <td>-3.8%</td>\n",
       "    </tr>\n",
       "    <tr>\n",
       "      <th>PG-US_12/31/2020</th>\n",
       "      <td>17,973</td>\n",
       "      <td>13.4%</td>\n",
       "      <td>75.9%</td>\n",
       "      <td>9.3%</td>\n",
       "      <td>14.0%</td>\n",
       "      <td>22,365</td>\n",
       "      <td>-2.6%</td>\n",
       "    </tr>\n",
       "    <tr>\n",
       "      <th>PG-US_12/31/2019</th>\n",
       "      <td>15,844</td>\n",
       "      <td>7.0%</td>\n",
       "      <td>66.6%</td>\n",
       "      <td>2.5%</td>\n",
       "      <td>3.9%</td>\n",
       "      <td>22,950</td>\n",
       "      <td>0.9%</td>\n",
       "    </tr>\n",
       "    <tr>\n",
       "      <th>PG-US_12/31/2018</th>\n",
       "      <td>14,803</td>\n",
       "      <td>10.8%</td>\n",
       "      <td>64.1%</td>\n",
       "      <td>-0.6%</td>\n",
       "      <td>-1.0%</td>\n",
       "      <td>22,734</td>\n",
       "      <td>1.4%</td>\n",
       "    </tr>\n",
       "    <tr>\n",
       "      <th>PG-US_12/31/2017</th>\n",
       "      <td>13,359</td>\n",
       "      <td>-10.5%</td>\n",
       "      <td>64.7%</td>\n",
       "      <td>17.2%</td>\n",
       "      <td>36.3%</td>\n",
       "      <td>22,414</td>\n",
       "      <td>-26.8%</td>\n",
       "    </tr>\n",
       "    <tr>\n",
       "      <th>PG-US_12/31/2016</th>\n",
       "      <td>14,922</td>\n",
       "      <td>2.8%</td>\n",
       "      <td>47.5%</td>\n",
       "      <td>-0.1%</td>\n",
       "      <td>-0.1%</td>\n",
       "      <td>30,633</td>\n",
       "      <td>-5.4%</td>\n",
       "    </tr>\n",
       "    <tr>\n",
       "      <th>PG-US_12/31/2015</th>\n",
       "      <td>14,513</td>\n",
       "      <td>-6.7%</td>\n",
       "      <td>47.6%</td>\n",
       "      <td>0.0%</td>\n",
       "      <td>0.0%</td>\n",
       "      <td>32,370</td>\n",
       "      <td>0.0%</td>\n",
       "    </tr>\n",
       "  </tbody>\n",
       "</table>\n",
       "</div>"
      ],
      "text/plain": [
       "                     OCF OCFGrowth-1y EBIT_ROIC EBIT_ROIC_Delta EBIT_ROIC_rel  \\\n",
       "Instance                                                                        \n",
       "PG-US_5/6/2022    17,131       -10.1%     84.9%           -3.6%         -4.0%   \n",
       "PG-US_12/31/2021  18,275         1.7%     88.5%           12.5%         16.5%   \n",
       "PG-US_12/31/2020  17,973        13.4%     75.9%            9.3%         14.0%   \n",
       "PG-US_12/31/2019  15,844         7.0%     66.6%            2.5%          3.9%   \n",
       "PG-US_12/31/2018  14,803        10.8%     64.1%           -0.6%         -1.0%   \n",
       "PG-US_12/31/2017  13,359       -10.5%     64.7%           17.2%         36.3%   \n",
       "PG-US_12/31/2016  14,922         2.8%     47.5%           -0.1%         -0.1%   \n",
       "PG-US_12/31/2015  14,513        -6.7%     47.6%            0.0%          0.0%   \n",
       "\n",
       "                 TangibleCapital Capital_Growth  \n",
       "Instance                                         \n",
       "PG-US_5/6/2022            21,488          -0.1%  \n",
       "PG-US_12/31/2021          21,504          -3.8%  \n",
       "PG-US_12/31/2020          22,365          -2.6%  \n",
       "PG-US_12/31/2019          22,950           0.9%  \n",
       "PG-US_12/31/2018          22,734           1.4%  \n",
       "PG-US_12/31/2017          22,414         -26.8%  \n",
       "PG-US_12/31/2016          30,633          -5.4%  \n",
       "PG-US_12/31/2015          32,370           0.0%  "
      ]
     },
     "execution_count": 117,
     "metadata": {},
     "output_type": "execute_result"
    }
   ],
   "source": [
    "roic_pretty[roic_pretty.Symbol == lookup_symbol]\\\n",
    ".sort_values('StartDate', ascending=False)\\\n",
    "[['OCF', 'OCFGrowth-1y', 'EBIT_ROIC', 'EBIT_ROIC_Delta', 'EBIT_ROIC_rel', 'TangibleCapital', 'Capital_Growth']]\n",
    "\n",
    "#  'EBIT_ROIC_rel','OCF_ROIC_rel','FCF_ROIC_rel'"
   ]
  },
  {
   "cell_type": "markdown",
   "metadata": {},
   "source": [
    "## R&D Focused"
   ]
  },
  {
   "cell_type": "code",
   "execution_count": 118,
   "metadata": {
    "scrolled": false
   },
   "outputs": [
    {
     "data": {
      "text/html": [
       "<div>\n",
       "<style scoped>\n",
       "    .dataframe tbody tr th:only-of-type {\n",
       "        vertical-align: middle;\n",
       "    }\n",
       "\n",
       "    .dataframe tbody tr th {\n",
       "        vertical-align: top;\n",
       "    }\n",
       "\n",
       "    .dataframe thead th {\n",
       "        text-align: right;\n",
       "    }\n",
       "</style>\n",
       "<table border=\"1\" class=\"dataframe\">\n",
       "  <thead>\n",
       "    <tr style=\"text-align: right;\">\n",
       "      <th></th>\n",
       "      <th>Sales</th>\n",
       "      <th>RD</th>\n",
       "      <th>FCF</th>\n",
       "      <th>FCF_ROIC</th>\n",
       "      <th>FCF_RD_ROIC</th>\n",
       "      <th>ROA</th>\n",
       "      <th>Cash</th>\n",
       "      <th>LT_Debt</th>\n",
       "      <th>TangibleCapital</th>\n",
       "      <th>RD_Cap</th>\n",
       "      <th>Capex</th>\n",
       "    </tr>\n",
       "    <tr>\n",
       "      <th>Instance</th>\n",
       "      <th></th>\n",
       "      <th></th>\n",
       "      <th></th>\n",
       "      <th></th>\n",
       "      <th></th>\n",
       "      <th></th>\n",
       "      <th></th>\n",
       "      <th></th>\n",
       "      <th></th>\n",
       "      <th></th>\n",
       "      <th></th>\n",
       "    </tr>\n",
       "  </thead>\n",
       "  <tbody>\n",
       "    <tr>\n",
       "      <th>PG-US_5/6/2022</th>\n",
       "      <td>79,618</td>\n",
       "      <td>0</td>\n",
       "      <td>13,953</td>\n",
       "      <td>64.9%</td>\n",
       "      <td>64.9%</td>\n",
       "      <td>12.1%</td>\n",
       "      <td>10,182</td>\n",
       "      <td>22,594</td>\n",
       "      <td>21,488</td>\n",
       "      <td>0.0%</td>\n",
       "      <td>3,178</td>\n",
       "    </tr>\n",
       "    <tr>\n",
       "      <th>PG-US_12/31/2021</th>\n",
       "      <td>77,138</td>\n",
       "      <td>0</td>\n",
       "      <td>15,247</td>\n",
       "      <td>70.9%</td>\n",
       "      <td>70.9%</td>\n",
       "      <td>11.9%</td>\n",
       "      <td>10,595</td>\n",
       "      <td>21,683</td>\n",
       "      <td>21,504</td>\n",
       "      <td>0.0%</td>\n",
       "      <td>3,028</td>\n",
       "    </tr>\n",
       "    <tr>\n",
       "      <th>PG-US_12/31/2020</th>\n",
       "      <td>72,470</td>\n",
       "      <td>0</td>\n",
       "      <td>15,129</td>\n",
       "      <td>67.6%</td>\n",
       "      <td>0.0%</td>\n",
       "      <td>11.6%</td>\n",
       "      <td>12,811</td>\n",
       "      <td>22,938</td>\n",
       "      <td>22,365</td>\n",
       "      <td>0.0%</td>\n",
       "      <td>2,844</td>\n",
       "    </tr>\n",
       "    <tr>\n",
       "      <th>PG-US_12/31/2019</th>\n",
       "      <td>68,792</td>\n",
       "      <td>0</td>\n",
       "      <td>12,498</td>\n",
       "      <td>54.5%</td>\n",
       "      <td>54.5%</td>\n",
       "      <td>3.6%</td>\n",
       "      <td>10,383</td>\n",
       "      <td>21,015</td>\n",
       "      <td>22,950</td>\n",
       "      <td>0.0%</td>\n",
       "      <td>3,346</td>\n",
       "    </tr>\n",
       "    <tr>\n",
       "      <th>PG-US_12/31/2018</th>\n",
       "      <td>66,869</td>\n",
       "      <td>0</td>\n",
       "      <td>11,138</td>\n",
       "      <td>49.0%</td>\n",
       "      <td>49.0%</td>\n",
       "      <td>8.3%</td>\n",
       "      <td>14,349</td>\n",
       "      <td>21,566</td>\n",
       "      <td>22,734</td>\n",
       "      <td>0.0%</td>\n",
       "      <td>3,665</td>\n",
       "    </tr>\n",
       "    <tr>\n",
       "      <th>PG-US_12/31/2017</th>\n",
       "      <td>65,193</td>\n",
       "      <td>0</td>\n",
       "      <td>9,527</td>\n",
       "      <td>42.5%</td>\n",
       "      <td>42.5%</td>\n",
       "      <td>8.5%</td>\n",
       "      <td>14,731</td>\n",
       "      <td>17,830</td>\n",
       "      <td>22,414</td>\n",
       "      <td>0.0%</td>\n",
       "      <td>3,832</td>\n",
       "    </tr>\n",
       "    <tr>\n",
       "      <th>PG-US_12/31/2016</th>\n",
       "      <td>65,290</td>\n",
       "      <td>0</td>\n",
       "      <td>11,456</td>\n",
       "      <td>37.4%</td>\n",
       "      <td>37.4%</td>\n",
       "      <td>7.8%</td>\n",
       "      <td>14,369</td>\n",
       "      <td>18,996</td>\n",
       "      <td>30,633</td>\n",
       "      <td>0.0%</td>\n",
       "      <td>3,466</td>\n",
       "    </tr>\n",
       "    <tr>\n",
       "      <th>PG-US_12/31/2015</th>\n",
       "      <td>72,620</td>\n",
       "      <td>0</td>\n",
       "      <td>11,055</td>\n",
       "      <td>34.2%</td>\n",
       "      <td>34.2%</td>\n",
       "      <td>6.7%</td>\n",
       "      <td>12,407</td>\n",
       "      <td>17,803</td>\n",
       "      <td>32,370</td>\n",
       "      <td>0.0%</td>\n",
       "      <td>3,458</td>\n",
       "    </tr>\n",
       "  </tbody>\n",
       "</table>\n",
       "</div>"
      ],
      "text/plain": [
       "                   Sales RD     FCF FCF_ROIC FCF_RD_ROIC    ROA    Cash  \\\n",
       "Instance                                                                  \n",
       "PG-US_5/6/2022    79,618  0  13,953    64.9%       64.9%  12.1%  10,182   \n",
       "PG-US_12/31/2021  77,138  0  15,247    70.9%       70.9%  11.9%  10,595   \n",
       "PG-US_12/31/2020  72,470  0  15,129    67.6%        0.0%  11.6%  12,811   \n",
       "PG-US_12/31/2019  68,792  0  12,498    54.5%       54.5%   3.6%  10,383   \n",
       "PG-US_12/31/2018  66,869  0  11,138    49.0%       49.0%   8.3%  14,349   \n",
       "PG-US_12/31/2017  65,193  0   9,527    42.5%       42.5%   8.5%  14,731   \n",
       "PG-US_12/31/2016  65,290  0  11,456    37.4%       37.4%   7.8%  14,369   \n",
       "PG-US_12/31/2015  72,620  0  11,055    34.2%       34.2%   6.7%  12,407   \n",
       "\n",
       "                 LT_Debt TangibleCapital RD_Cap  Capex  \n",
       "Instance                                                \n",
       "PG-US_5/6/2022    22,594          21,488   0.0%  3,178  \n",
       "PG-US_12/31/2021  21,683          21,504   0.0%  3,028  \n",
       "PG-US_12/31/2020  22,938          22,365   0.0%  2,844  \n",
       "PG-US_12/31/2019  21,015          22,950   0.0%  3,346  \n",
       "PG-US_12/31/2018  21,566          22,734   0.0%  3,665  \n",
       "PG-US_12/31/2017  17,830          22,414   0.0%  3,832  \n",
       "PG-US_12/31/2016  18,996          30,633   0.0%  3,466  \n",
       "PG-US_12/31/2015  17,803          32,370   0.0%  3,458  "
      ]
     },
     "execution_count": 118,
     "metadata": {},
     "output_type": "execute_result"
    }
   ],
   "source": [
    "roic_pretty[roic_pretty.Symbol == lookup_symbol]\\\n",
    ".sort_values('StartDate', ascending=False)\\\n",
    "[['Sales','RD','FCF', 'FCF_ROIC', 'FCF_RD_ROIC', 'ROA',\n",
    "'Cash','LT_Debt','TangibleCapital','RD_Cap','Capex']]\n",
    "\n",
    "### 'CurrAssets','ActPay','NetFixed',"
   ]
  },
  {
   "cell_type": "markdown",
   "metadata": {},
   "source": [
    "## Growth Focused"
   ]
  },
  {
   "cell_type": "code",
   "execution_count": 119,
   "metadata": {},
   "outputs": [
    {
     "data": {
      "text/html": [
       "<div>\n",
       "<style scoped>\n",
       "    .dataframe tbody tr th:only-of-type {\n",
       "        vertical-align: middle;\n",
       "    }\n",
       "\n",
       "    .dataframe tbody tr th {\n",
       "        vertical-align: top;\n",
       "    }\n",
       "\n",
       "    .dataframe thead th {\n",
       "        text-align: right;\n",
       "    }\n",
       "</style>\n",
       "<table border=\"1\" class=\"dataframe\">\n",
       "  <thead>\n",
       "    <tr style=\"text-align: right;\">\n",
       "      <th></th>\n",
       "      <th>EBITGrowth-1y</th>\n",
       "      <th>EBITGrowth-3y</th>\n",
       "      <th>SalesGrowth-1y</th>\n",
       "      <th>SalesGrowth-3y</th>\n",
       "      <th>OCFGrowth-1y</th>\n",
       "      <th>OCFGrowth-3y</th>\n",
       "    </tr>\n",
       "    <tr>\n",
       "      <th>Instance</th>\n",
       "      <th></th>\n",
       "      <th></th>\n",
       "      <th></th>\n",
       "      <th></th>\n",
       "      <th></th>\n",
       "      <th></th>\n",
       "    </tr>\n",
       "  </thead>\n",
       "  <tbody>\n",
       "    <tr>\n",
       "      <th>PG-US_5/6/2022</th>\n",
       "      <td>1.1%</td>\n",
       "      <td>29.2%</td>\n",
       "      <td>6.3%</td>\n",
       "      <td>18.7%</td>\n",
       "      <td>-10.1%</td>\n",
       "      <td>12.0%</td>\n",
       "    </tr>\n",
       "    <tr>\n",
       "      <th>PG-US_12/31/2021</th>\n",
       "      <td>12.0%</td>\n",
       "      <td>30.5%</td>\n",
       "      <td>6.4%</td>\n",
       "      <td>15.4%</td>\n",
       "      <td>1.7%</td>\n",
       "      <td>23.5%</td>\n",
       "    </tr>\n",
       "    <tr>\n",
       "      <th>PG-US_12/31/2020</th>\n",
       "      <td>11.1%</td>\n",
       "      <td>17.0%</td>\n",
       "      <td>5.3%</td>\n",
       "      <td>11.2%</td>\n",
       "      <td>13.4%</td>\n",
       "      <td>34.5%</td>\n",
       "    </tr>\n",
       "    <tr>\n",
       "      <th>PG-US_12/31/2019</th>\n",
       "      <td>4.9%</td>\n",
       "      <td>5.1%</td>\n",
       "      <td>2.9%</td>\n",
       "      <td>5.4%</td>\n",
       "      <td>7.0%</td>\n",
       "      <td>6.2%</td>\n",
       "    </tr>\n",
       "    <tr>\n",
       "      <th>PG-US_12/31/2018</th>\n",
       "      <td>0.5%</td>\n",
       "      <td>-5.3%</td>\n",
       "      <td>2.6%</td>\n",
       "      <td>-7.9%</td>\n",
       "      <td>10.8%</td>\n",
       "      <td>2.0%</td>\n",
       "    </tr>\n",
       "    <tr>\n",
       "      <th>PG-US_12/31/2017</th>\n",
       "      <td>-0.3%</td>\n",
       "      <td>-11.5%</td>\n",
       "      <td>-0.1%</td>\n",
       "      <td>-22.2%</td>\n",
       "      <td>-10.5%</td>\n",
       "      <td>-14.1%</td>\n",
       "    </tr>\n",
       "    <tr>\n",
       "      <th>PG-US_12/31/2016</th>\n",
       "      <td>-5.5%</td>\n",
       "      <td>-7.3%</td>\n",
       "      <td>-10.1%</td>\n",
       "      <td>-22.9%</td>\n",
       "      <td>2.8%</td>\n",
       "      <td>5.5%</td>\n",
       "    </tr>\n",
       "    <tr>\n",
       "      <th>PG-US_12/31/2015</th>\n",
       "      <td>-6.1%</td>\n",
       "      <td>-5.6%</td>\n",
       "      <td>-13.3%</td>\n",
       "      <td>-12.8%</td>\n",
       "      <td>-6.7%</td>\n",
       "      <td>4.5%</td>\n",
       "    </tr>\n",
       "  </tbody>\n",
       "</table>\n",
       "</div>"
      ],
      "text/plain": [
       "                 EBITGrowth-1y EBITGrowth-3y SalesGrowth-1y SalesGrowth-3y  \\\n",
       "Instance                                                                     \n",
       "PG-US_5/6/2022            1.1%         29.2%           6.3%          18.7%   \n",
       "PG-US_12/31/2021         12.0%         30.5%           6.4%          15.4%   \n",
       "PG-US_12/31/2020         11.1%         17.0%           5.3%          11.2%   \n",
       "PG-US_12/31/2019          4.9%          5.1%           2.9%           5.4%   \n",
       "PG-US_12/31/2018          0.5%         -5.3%           2.6%          -7.9%   \n",
       "PG-US_12/31/2017         -0.3%        -11.5%          -0.1%         -22.2%   \n",
       "PG-US_12/31/2016         -5.5%         -7.3%         -10.1%         -22.9%   \n",
       "PG-US_12/31/2015         -6.1%         -5.6%         -13.3%         -12.8%   \n",
       "\n",
       "                 OCFGrowth-1y OCFGrowth-3y  \n",
       "Instance                                    \n",
       "PG-US_5/6/2022         -10.1%        12.0%  \n",
       "PG-US_12/31/2021         1.7%        23.5%  \n",
       "PG-US_12/31/2020        13.4%        34.5%  \n",
       "PG-US_12/31/2019         7.0%         6.2%  \n",
       "PG-US_12/31/2018        10.8%         2.0%  \n",
       "PG-US_12/31/2017       -10.5%       -14.1%  \n",
       "PG-US_12/31/2016         2.8%         5.5%  \n",
       "PG-US_12/31/2015        -6.7%         4.5%  "
      ]
     },
     "execution_count": 119,
     "metadata": {},
     "output_type": "execute_result"
    }
   ],
   "source": [
    "roic_pretty[roic_pretty.Symbol == lookup_symbol]\\\n",
    ".sort_values('StartDate', ascending=False)\\\n",
    "[['EBITGrowth-1y', 'EBITGrowth-3y', 'SalesGrowth-1y','SalesGrowth-3y', \n",
    "'OCFGrowth-1y','OCFGrowth-3y',]]"
   ]
  },
  {
   "cell_type": "code",
   "execution_count": 120,
   "metadata": {},
   "outputs": [
    {
     "data": {
      "text/html": [
       "<div>\n",
       "<style scoped>\n",
       "    .dataframe tbody tr th:only-of-type {\n",
       "        vertical-align: middle;\n",
       "    }\n",
       "\n",
       "    .dataframe tbody tr th {\n",
       "        vertical-align: top;\n",
       "    }\n",
       "\n",
       "    .dataframe thead th {\n",
       "        text-align: right;\n",
       "    }\n",
       "</style>\n",
       "<table border=\"1\" class=\"dataframe\">\n",
       "  <thead>\n",
       "    <tr style=\"text-align: right;\">\n",
       "      <th></th>\n",
       "      <th>RD</th>\n",
       "      <th>FCF</th>\n",
       "      <th>FCF_ROIC</th>\n",
       "      <th>FCF_RD_ROIC</th>\n",
       "      <th>RD_Cap</th>\n",
       "    </tr>\n",
       "    <tr>\n",
       "      <th>Instance</th>\n",
       "      <th></th>\n",
       "      <th></th>\n",
       "      <th></th>\n",
       "      <th></th>\n",
       "      <th></th>\n",
       "    </tr>\n",
       "  </thead>\n",
       "  <tbody>\n",
       "    <tr>\n",
       "      <th>PG-US_5/6/2022</th>\n",
       "      <td>0</td>\n",
       "      <td>13,953</td>\n",
       "      <td>64.9%</td>\n",
       "      <td>64.9%</td>\n",
       "      <td>0.0%</td>\n",
       "    </tr>\n",
       "    <tr>\n",
       "      <th>PG-US_12/31/2021</th>\n",
       "      <td>0</td>\n",
       "      <td>15,247</td>\n",
       "      <td>70.9%</td>\n",
       "      <td>70.9%</td>\n",
       "      <td>0.0%</td>\n",
       "    </tr>\n",
       "    <tr>\n",
       "      <th>PG-US_12/31/2020</th>\n",
       "      <td>0</td>\n",
       "      <td>15,129</td>\n",
       "      <td>67.6%</td>\n",
       "      <td>0.0%</td>\n",
       "      <td>0.0%</td>\n",
       "    </tr>\n",
       "    <tr>\n",
       "      <th>PG-US_12/31/2019</th>\n",
       "      <td>0</td>\n",
       "      <td>12,498</td>\n",
       "      <td>54.5%</td>\n",
       "      <td>54.5%</td>\n",
       "      <td>0.0%</td>\n",
       "    </tr>\n",
       "    <tr>\n",
       "      <th>PG-US_12/31/2018</th>\n",
       "      <td>0</td>\n",
       "      <td>11,138</td>\n",
       "      <td>49.0%</td>\n",
       "      <td>49.0%</td>\n",
       "      <td>0.0%</td>\n",
       "    </tr>\n",
       "    <tr>\n",
       "      <th>PG-US_12/31/2017</th>\n",
       "      <td>0</td>\n",
       "      <td>9,527</td>\n",
       "      <td>42.5%</td>\n",
       "      <td>42.5%</td>\n",
       "      <td>0.0%</td>\n",
       "    </tr>\n",
       "    <tr>\n",
       "      <th>PG-US_12/31/2016</th>\n",
       "      <td>0</td>\n",
       "      <td>11,456</td>\n",
       "      <td>37.4%</td>\n",
       "      <td>37.4%</td>\n",
       "      <td>0.0%</td>\n",
       "    </tr>\n",
       "    <tr>\n",
       "      <th>PG-US_12/31/2015</th>\n",
       "      <td>0</td>\n",
       "      <td>11,055</td>\n",
       "      <td>34.2%</td>\n",
       "      <td>34.2%</td>\n",
       "      <td>0.0%</td>\n",
       "    </tr>\n",
       "  </tbody>\n",
       "</table>\n",
       "</div>"
      ],
      "text/plain": [
       "                 RD     FCF FCF_ROIC FCF_RD_ROIC RD_Cap\n",
       "Instance                                               \n",
       "PG-US_5/6/2022    0  13,953    64.9%       64.9%   0.0%\n",
       "PG-US_12/31/2021  0  15,247    70.9%       70.9%   0.0%\n",
       "PG-US_12/31/2020  0  15,129    67.6%        0.0%   0.0%\n",
       "PG-US_12/31/2019  0  12,498    54.5%       54.5%   0.0%\n",
       "PG-US_12/31/2018  0  11,138    49.0%       49.0%   0.0%\n",
       "PG-US_12/31/2017  0   9,527    42.5%       42.5%   0.0%\n",
       "PG-US_12/31/2016  0  11,456    37.4%       37.4%   0.0%\n",
       "PG-US_12/31/2015  0  11,055    34.2%       34.2%   0.0%"
      ]
     },
     "execution_count": 120,
     "metadata": {},
     "output_type": "execute_result"
    }
   ],
   "source": [
    "roic_pretty[roic_pretty.Symbol == lookup_symbol]\\\n",
    ".sort_values('StartDate', ascending=False)\\\n",
    "[['RD','FCF', 'FCF_ROIC', 'FCF_RD_ROIC','RD_Cap']]"
   ]
  },
  {
   "cell_type": "code",
   "execution_count": 121,
   "metadata": {},
   "outputs": [
    {
     "data": {
      "text/html": [
       "<div>\n",
       "<style scoped>\n",
       "    .dataframe tbody tr th:only-of-type {\n",
       "        vertical-align: middle;\n",
       "    }\n",
       "\n",
       "    .dataframe tbody tr th {\n",
       "        vertical-align: top;\n",
       "    }\n",
       "\n",
       "    .dataframe thead th {\n",
       "        text-align: right;\n",
       "    }\n",
       "</style>\n",
       "<table border=\"1\" class=\"dataframe\">\n",
       "  <thead>\n",
       "    <tr style=\"text-align: right;\">\n",
       "      <th></th>\n",
       "      <th>ShareholderYield1</th>\n",
       "      <th>DividendYield</th>\n",
       "      <th>DownsideBeta</th>\n",
       "      <th>UpsideBeta</th>\n",
       "    </tr>\n",
       "    <tr>\n",
       "      <th>Instance</th>\n",
       "      <th></th>\n",
       "      <th></th>\n",
       "      <th></th>\n",
       "      <th></th>\n",
       "    </tr>\n",
       "  </thead>\n",
       "  <tbody>\n",
       "    <tr>\n",
       "      <th>PG-US_5/6/2022</th>\n",
       "      <td>4.4%</td>\n",
       "      <td>2.3%</td>\n",
       "      <td>0.34</td>\n",
       "      <td>0.42</td>\n",
       "    </tr>\n",
       "    <tr>\n",
       "      <th>PG-US_12/31/2021</th>\n",
       "      <td>4.6%</td>\n",
       "      <td>2.1%</td>\n",
       "      <td>0.46</td>\n",
       "      <td>0.36</td>\n",
       "    </tr>\n",
       "    <tr>\n",
       "      <th>PG-US_12/31/2020</th>\n",
       "      <td>2.8%</td>\n",
       "      <td>2.2%</td>\n",
       "      <td>0.63</td>\n",
       "      <td>0.87</td>\n",
       "    </tr>\n",
       "    <tr>\n",
       "      <th>PG-US_12/31/2019</th>\n",
       "      <td>2.2%</td>\n",
       "      <td>2.3%</td>\n",
       "      <td>0.59</td>\n",
       "      <td>0.47</td>\n",
       "    </tr>\n",
       "    <tr>\n",
       "      <th>PG-US_12/31/2018</th>\n",
       "      <td>4.9%</td>\n",
       "      <td>3.1%</td>\n",
       "      <td>0.51</td>\n",
       "      <td>0.44</td>\n",
       "    </tr>\n",
       "    <tr>\n",
       "      <th>PG-US_12/31/2017</th>\n",
       "      <td>8.4%</td>\n",
       "      <td>3.0%</td>\n",
       "      <td>0.35</td>\n",
       "      <td>0.37</td>\n",
       "    </tr>\n",
       "    <tr>\n",
       "      <th>PG-US_12/31/2016</th>\n",
       "      <td>4.8%</td>\n",
       "      <td>3.2%</td>\n",
       "      <td>0.49</td>\n",
       "      <td>0.65</td>\n",
       "    </tr>\n",
       "    <tr>\n",
       "      <th>PG-US_12/31/2015</th>\n",
       "      <td>2.6%</td>\n",
       "      <td>3.3%</td>\n",
       "      <td>0.77</td>\n",
       "      <td>0.78</td>\n",
       "    </tr>\n",
       "  </tbody>\n",
       "</table>\n",
       "</div>"
      ],
      "text/plain": [
       "                 ShareholderYield1 DividendYield DownsideBeta UpsideBeta\n",
       "Instance                                                                \n",
       "PG-US_5/6/2022                4.4%          2.3%         0.34       0.42\n",
       "PG-US_12/31/2021              4.6%          2.1%         0.46       0.36\n",
       "PG-US_12/31/2020              2.8%          2.2%         0.63       0.87\n",
       "PG-US_12/31/2019              2.2%          2.3%         0.59       0.47\n",
       "PG-US_12/31/2018              4.9%          3.1%         0.51       0.44\n",
       "PG-US_12/31/2017              8.4%          3.0%         0.35       0.37\n",
       "PG-US_12/31/2016              4.8%          3.2%         0.49       0.65\n",
       "PG-US_12/31/2015              2.6%          3.3%         0.77       0.78"
      ]
     },
     "execution_count": 121,
     "metadata": {},
     "output_type": "execute_result"
    }
   ],
   "source": [
    "roic_pretty[roic_pretty.Symbol == lookup_symbol]\\\n",
    ".sort_values('StartDate', ascending=False)\\\n",
    "[['ShareholderYield1','DividendYield','DownsideBeta', 'UpsideBeta']]"
   ]
  },
  {
   "cell_type": "code",
   "execution_count": 122,
   "metadata": {},
   "outputs": [
    {
     "data": {
      "text/html": [
       "<div>\n",
       "<style scoped>\n",
       "    .dataframe tbody tr th:only-of-type {\n",
       "        vertical-align: middle;\n",
       "    }\n",
       "\n",
       "    .dataframe tbody tr th {\n",
       "        vertical-align: top;\n",
       "    }\n",
       "\n",
       "    .dataframe thead th {\n",
       "        text-align: right;\n",
       "    }\n",
       "</style>\n",
       "<table border=\"1\" class=\"dataframe\">\n",
       "  <thead>\n",
       "    <tr style=\"text-align: right;\">\n",
       "      <th></th>\n",
       "      <th>EBIT_EV</th>\n",
       "      <th>OCF_EV</th>\n",
       "      <th>FCF_EV</th>\n",
       "      <th>EBIT_RD_EV</th>\n",
       "      <th>OCF_RD_EV</th>\n",
       "      <th>FCF_RD_EV</th>\n",
       "    </tr>\n",
       "    <tr>\n",
       "      <th>Instance</th>\n",
       "      <th></th>\n",
       "      <th></th>\n",
       "      <th></th>\n",
       "      <th></th>\n",
       "      <th></th>\n",
       "      <th></th>\n",
       "    </tr>\n",
       "  </thead>\n",
       "  <tbody>\n",
       "    <tr>\n",
       "      <th>PG-US_5/6/2022</th>\n",
       "      <td>4.6%</td>\n",
       "      <td>4.3%</td>\n",
       "      <td>3.5%</td>\n",
       "      <td>4.6%</td>\n",
       "      <td>4.3%</td>\n",
       "      <td>3.5%</td>\n",
       "    </tr>\n",
       "    <tr>\n",
       "      <th>PG-US_12/31/2021</th>\n",
       "      <td>4.5%</td>\n",
       "      <td>4.4%</td>\n",
       "      <td>3.6%</td>\n",
       "      <td>4.4%</td>\n",
       "      <td>4.4%</td>\n",
       "      <td>3.6%</td>\n",
       "    </tr>\n",
       "    <tr>\n",
       "      <th>PG-US_12/31/2020</th>\n",
       "      <td>4.7%</td>\n",
       "      <td>4.9%</td>\n",
       "      <td>4.1%</td>\n",
       "      <td>0.0%</td>\n",
       "      <td>0.0%</td>\n",
       "      <td>0.0%</td>\n",
       "    </tr>\n",
       "    <tr>\n",
       "      <th>PG-US_12/31/2019</th>\n",
       "      <td>4.6%</td>\n",
       "      <td>4.8%</td>\n",
       "      <td>3.8%</td>\n",
       "      <td>4.6%</td>\n",
       "      <td>4.8%</td>\n",
       "      <td>3.8%</td>\n",
       "    </tr>\n",
       "    <tr>\n",
       "      <th>PG-US_12/31/2018</th>\n",
       "      <td>5.8%</td>\n",
       "      <td>5.9%</td>\n",
       "      <td>4.4%</td>\n",
       "      <td>5.8%</td>\n",
       "      <td>5.9%</td>\n",
       "      <td>4.4%</td>\n",
       "    </tr>\n",
       "    <tr>\n",
       "      <th>PG-US_12/31/2017</th>\n",
       "      <td>5.8%</td>\n",
       "      <td>5.3%</td>\n",
       "      <td>3.8%</td>\n",
       "      <td>5.8%</td>\n",
       "      <td>5.3%</td>\n",
       "      <td>3.8%</td>\n",
       "    </tr>\n",
       "    <tr>\n",
       "      <th>PG-US_12/31/2016</th>\n",
       "      <td>6.3%</td>\n",
       "      <td>6.4%</td>\n",
       "      <td>4.9%</td>\n",
       "      <td>6.3%</td>\n",
       "      <td>6.4%</td>\n",
       "      <td>4.9%</td>\n",
       "    </tr>\n",
       "    <tr>\n",
       "      <th>PG-US_12/31/2015</th>\n",
       "      <td>6.6%</td>\n",
       "      <td>6.2%</td>\n",
       "      <td>4.7%</td>\n",
       "      <td>6.6%</td>\n",
       "      <td>6.2%</td>\n",
       "      <td>4.7%</td>\n",
       "    </tr>\n",
       "  </tbody>\n",
       "</table>\n",
       "</div>"
      ],
      "text/plain": [
       "                 EBIT_EV OCF_EV FCF_EV EBIT_RD_EV OCF_RD_EV FCF_RD_EV\n",
       "Instance                                                             \n",
       "PG-US_5/6/2022      4.6%   4.3%   3.5%       4.6%      4.3%      3.5%\n",
       "PG-US_12/31/2021    4.5%   4.4%   3.6%       4.4%      4.4%      3.6%\n",
       "PG-US_12/31/2020    4.7%   4.9%   4.1%       0.0%      0.0%      0.0%\n",
       "PG-US_12/31/2019    4.6%   4.8%   3.8%       4.6%      4.8%      3.8%\n",
       "PG-US_12/31/2018    5.8%   5.9%   4.4%       5.8%      5.9%      4.4%\n",
       "PG-US_12/31/2017    5.8%   5.3%   3.8%       5.8%      5.3%      3.8%\n",
       "PG-US_12/31/2016    6.3%   6.4%   4.9%       6.3%      6.4%      4.9%\n",
       "PG-US_12/31/2015    6.6%   6.2%   4.7%       6.6%      6.2%      4.7%"
      ]
     },
     "execution_count": 122,
     "metadata": {},
     "output_type": "execute_result"
    }
   ],
   "source": [
    "roic_pretty[roic_pretty.Symbol == lookup_symbol]\\\n",
    ".sort_values('StartDate', ascending=False)\\\n",
    "[['EBIT_EV','OCF_EV','FCF_EV','EBIT_RD_EV','OCF_RD_EV','FCF_RD_EV']]"
   ]
  },
  {
   "cell_type": "code",
   "execution_count": 123,
   "metadata": {},
   "outputs": [],
   "source": [
    "df = roic_pretty[roic_pretty.Symbol == lookup_symbol]\\\n",
    ".sort_values('StartDate', ascending=False)\\\n",
    "[['EBIT_EV','OCF_EV','FCF_EV','EBIT_RD_EV','OCF_RD_EV','FCF_RD_EV']]"
   ]
  },
  {
   "cell_type": "code",
   "execution_count": 124,
   "metadata": {},
   "outputs": [],
   "source": [
    "# from IPython.display import display, HTML, Latex, TextDisplayObject"
   ]
  },
  {
   "cell_type": "code",
   "execution_count": 125,
   "metadata": {},
   "outputs": [],
   "source": [
    "# html = (\n",
    "#     df.style\n",
    "#     .format(format_dict)\n",
    "#     .set_properties(**{'font-size': '9pt', 'font-family': 'Calibri'})\n",
    "#     .render()\n",
    "# )\n"
   ]
  },
  {
   "cell_type": "code",
   "execution_count": null,
   "metadata": {},
   "outputs": [],
   "source": []
  },
  {
   "cell_type": "code",
   "execution_count": 126,
   "metadata": {},
   "outputs": [],
   "source": [
    "# dft.to_html(classes=[\"table-bordered\", \"table-striped\", \"table-hover\", \"isi\"]\n",
    "\n",
    "# I make \"isi\" class and write it in CSS like this :\n",
    "\n",
    "# .isi {\n",
    "# text-align:center; }\n"
   ]
  },
  {
   "cell_type": "code",
   "execution_count": 127,
   "metadata": {},
   "outputs": [],
   "source": [
    "# display(HTML(roic_pretty[(roic_pretty.Symbol==lookup_symbol)]\\\n",
    "# .sort_values('StartDate', ascending=False)\\\n",
    "# [['MarketCap']].to_html()))"
   ]
  },
  {
   "cell_type": "markdown",
   "metadata": {},
   "source": [
    "<a id='List'></a>"
   ]
  },
  {
   "cell_type": "markdown",
   "metadata": {},
   "source": [
    "### Output a list of companies"
   ]
  },
  {
   "cell_type": "code",
   "execution_count": 128,
   "metadata": {},
   "outputs": [],
   "source": [
    "factor1 = 'EBIT_ROIC'\n",
    "factor2 = 'EBIT_EV'\n",
    "factor3 = 'DividendYield'\n",
    "\n",
    "instance_list = ['MO-US_12/31/2020', 'HRB-US_12/31/2020', 'OMC-US_12/31/2020',\n",
    "       'GILD-US_12/31/2020', 'PM-US_12/31/2020', 'KHC-US_12/31/2020',\n",
    "       'STX-US_12/31/2020', 'HPQ-US_12/31/2020', 'CSCO-US_12/31/2020',\n",
    "       'GIS-US_12/31/2020', 'STRA-US_12/31/2020', 'ABBV-US_12/31/2020',\n",
    "       'CAH-US_12/31/2020', 'IPG-US_12/31/2020', 'SJM-US_12/31/2020',\n",
    "       'HBI-US_12/31/2020', 'NTAP-US_12/31/2020', 'CPB-US_12/31/2020',\n",
    "       'BBY-US_12/31/2020', 'KMB-US_12/31/2020', 'INTC-US_12/31/2020',\n",
    "       'MRK-US_12/31/2020', 'LMT-US_12/31/2020', 'VZ-US_12/31/2020',\n",
    "       'TAP-US_12/31/2020', 'FOX-US_12/31/2020', 'CAG-US_12/31/2020',\n",
    "       'CVS-US_12/31/2020', 'FOXA-US_12/31/2020', 'DGX-US_12/31/2020']"
   ]
  },
  {
   "cell_type": "code",
   "execution_count": 129,
   "metadata": {},
   "outputs": [],
   "source": [
    "list_of_symbols = ['AMZN-US','MA-US','V-US','MCO-US','NVDA-US','CDNS-US','DPZ-US',\n",
    "'MSCI-US','GOOG-US','BRK.B-US','MSFT-US','SPGI-US','MNST-US','AAPL-US','FDS-US',\n",
    "'BKNG-US','ANSS-US','ADBE-US','ETSY-US','PYPL-US','ISRG-US','SHOP-US','NOW-US',\n",
    "'SNPS-US','REGN-US','CRM-US','TSLA-US']"
   ]
  },
  {
   "cell_type": "code",
   "execution_count": 130,
   "metadata": {},
   "outputs": [],
   "source": [
    "## remove the date portion from the instance values, leaving just the symbol. \n",
    "\n",
    "list_of_symbols = []\n",
    "\n",
    "for i in (instance_list):\n",
    "#     print(i)\n",
    "    i = i.rsplit('_12/31/2020', 1)[0]\n",
    "    list_of_symbols.append(i)\n",
    "#     print(i)"
   ]
  },
  {
   "cell_type": "code",
   "execution_count": 131,
   "metadata": {},
   "outputs": [],
   "source": [
    "list_of_symbols = ['TSLA-US', 'TDOC-US', 'COIN-US', 'U-US', 'ROKU-US', 'SQ-US', 'PATH-US', 'SHOP-US', \n",
    "                   'ZM-US', 'TWLO-US', 'EXAS-US', 'SPOT-US', 'Z-US', 'PLTR-US', 'CRSP-US', 'NTLA-US', \n",
    "                   'TWTR-US', 'DKNG-US', 'BEAM-US', 'FATE-US', 'NVTA-US', 'PACB-US', 'DOCU-US']"
   ]
  },
  {
   "cell_type": "code",
   "execution_count": 132,
   "metadata": {},
   "outputs": [],
   "source": [
    "list_of_symbols = ['F-US','TSLA-US','GM-US']\n",
    "list_of_symbols = ['ETSY-US','NOW-US','CRM-US']"
   ]
  },
  {
   "cell_type": "code",
   "execution_count": 133,
   "metadata": {},
   "outputs": [],
   "source": [
    "list_of_symbols = ['AMZN-US','MA-US','V-US','MCO-US','NVDA-US','CDNS-US','DPZ-US',\n",
    "'MSCI-US','GOOG-US','BRK.B-US','MSFT-US','SPGI-US','MNST-US','AAPL-US','FDS-US',\n",
    "'BKNG-US','ANSS-US','ADBE-US','ETSY-US','PYPL-US','ISRG-US','SHOP-US','NOW-US',\n",
    "'SNPS-US','REGN-US','CRM-US','TSLA-US']"
   ]
  },
  {
   "cell_type": "code",
   "execution_count": 134,
   "metadata": {},
   "outputs": [
    {
     "name": "stdout",
     "output_type": "stream",
     "text": [
      "['AMZN-US', 'MA-US', 'V-US', 'MCO-US', 'NVDA-US', 'CDNS-US', 'DPZ-US', 'MSCI-US', 'GOOG-US', 'BRK.B-US', 'MSFT-US', 'SPGI-US', 'MNST-US', 'AAPL-US', 'FDS-US', 'BKNG-US', 'ANSS-US', 'ADBE-US', 'ETSY-US', 'PYPL-US', 'ISRG-US', 'SHOP-US', 'NOW-US', 'SNPS-US', 'REGN-US', 'CRM-US', 'TSLA-US']\n"
     ]
    }
   ],
   "source": [
    "print(list_of_symbols)"
   ]
  },
  {
   "cell_type": "code",
   "execution_count": 135,
   "metadata": {},
   "outputs": [],
   "source": [
    "# df1 = roic_pretty[roic_pretty.Symbol == lookup_symbol]\\\n",
    "#     .sort_values('StartDate', ascending=False)\\\n",
    "#     [['Sales','EBIT', 'EBIT_ROIC', 'OCF', 'OCF_ROIC','ROA',\n",
    "#     'CurrAssets','Cash','LT_Debt','ActPay','NetFixed', 'TangibleCapital']]"
   ]
  },
  {
   "cell_type": "code",
   "execution_count": 136,
   "metadata": {},
   "outputs": [],
   "source": [
    "# list_of_symbols"
   ]
  },
  {
   "cell_type": "code",
   "execution_count": 137,
   "metadata": {},
   "outputs": [],
   "source": [
    "import datetime\n",
    "from datetime import timedelta\n",
    "\n",
    "## get today and yesterdays dates, nicely formatted\n",
    "now = datetime.datetime.now()\n",
    "yesterday = yesterday = datetime.datetime.now() - timedelta(days=1)\n",
    "todays_date = now.strftime(\"%Y_%m_%d_%H%M\")"
   ]
  },
  {
   "cell_type": "code",
   "execution_count": 138,
   "metadata": {},
   "outputs": [
    {
     "data": {
      "text/plain": [
       "'2022_05_18_2029'"
      ]
     },
     "execution_count": 138,
     "metadata": {},
     "output_type": "execute_result"
    }
   ],
   "source": [
    "todays_date"
   ]
  },
  {
   "cell_type": "code",
   "execution_count": 139,
   "metadata": {},
   "outputs": [
    {
     "ename": "SyntaxError",
     "evalue": "Missing parentheses in call to 'print'. Did you mean print(blah)? (2641694686.py, line 3)",
     "output_type": "error",
     "traceback": [
      "\u001b[0;36m  File \u001b[0;32m\"/var/folders/gs/_2ctxjfj0390w2jnrt32hm040000gn/T/ipykernel_1831/2641694686.py\"\u001b[0;36m, line \u001b[0;32m3\u001b[0m\n\u001b[0;31m    print blah\u001b[0m\n\u001b[0m          ^\u001b[0m\n\u001b[0;31mSyntaxError\u001b[0m\u001b[0;31m:\u001b[0m Missing parentheses in call to 'print'. Did you mean print(blah)?\n"
     ]
    }
   ],
   "source": [
    "## stop here because maybe you don't want to output the png files yet\n",
    "\n",
    "print blah"
   ]
  },
  {
   "cell_type": "code",
   "execution_count": null,
   "metadata": {},
   "outputs": [],
   "source": [
    "### make a directory today's date and time, you'll put the png files there\n",
    "\n",
    "dir_prefix = 'Symbols/'\n",
    "\n",
    "## make a new sub directory there with todays date if it doesn't exist already\n",
    "\n",
    "import os\n",
    "if not os.path.exists(f\"{dir_prefix}{todays_date}\"):\n",
    "    os.makedirs(f\"{dir_prefix}{todays_date}\")"
   ]
  },
  {
   "cell_type": "code",
   "execution_count": null,
   "metadata": {},
   "outputs": [],
   "source": [
    "### go through a list of symbols and make each dataframe into a png file\n",
    "\n",
    "import dataframe_image as dfi\n",
    "\n",
    "for lookup_symbol in (list_of_symbols):\n",
    "    df1 = roic_pretty[roic_pretty.Symbol == lookup_symbol]\\\n",
    "    .sort_values('StartDate', ascending=False)\\\n",
    "    [['OCF', 'OCFGrowth-1y', 'OCF_ROIC', 'OCF_ROIC_Delta', 'OCF_ROIC_rel', 'TangibleCapital', 'Capital_Growth']]\n",
    "    dfi.export(df1, f\"{dir_prefix}{todays_date}/{lookup_symbol}.png\")"
   ]
  },
  {
   "cell_type": "code",
   "execution_count": null,
   "metadata": {},
   "outputs": [],
   "source": [
    "# ### go through a list of symbols and make each dataframe into a png file\n",
    "\n",
    "# import dataframe_image as dfi\n",
    "\n",
    "# for lookup_symbol in (list_of_symbols):\n",
    "#     df1 = roic_pretty[roic_pretty.Symbol == lookup_symbol]\\\n",
    "#     .sort_values('StartDate', ascending=False)\\\n",
    "#     [['Sales','EBIT', 'EBIT_ROIC', 'OCF', 'OCF_ROIC','ROA',\n",
    "#     'CurrAssets','Cash','LT_Debt','ActPay','NetFixed', 'TangibleCapital']]\n",
    "#     dfi.export(df1, f\"{dir_prefix}{todays_date}/{lookup_symbol}.png\")"
   ]
  },
  {
   "cell_type": "code",
   "execution_count": null,
   "metadata": {},
   "outputs": [],
   "source": [
    "# print('ocf',3019 + 1641 + 2124 + 3147)\n",
    "\n",
    "# print('fcf',1868 + 293 + 619 + 1328)"
   ]
  },
  {
   "cell_type": "code",
   "execution_count": null,
   "metadata": {},
   "outputs": [],
   "source": [
    "# print('avg cash 4 quarters', 17205)"
   ]
  },
  {
   "cell_type": "code",
   "execution_count": null,
   "metadata": {},
   "outputs": [],
   "source": [
    "# 25002 - 16065 - 8260 + 17298"
   ]
  },
  {
   "cell_type": "code",
   "execution_count": null,
   "metadata": {},
   "outputs": [],
   "source": [
    "# 9931/17975"
   ]
  },
  {
   "cell_type": "code",
   "execution_count": null,
   "metadata": {
    "scrolled": false
   },
   "outputs": [],
   "source": [
    "### write a for loop for showing a list of companies at once\n",
    "### just loop through a list of companies\n",
    "\n",
    "for lookup_symbol in (list_of_symbols):\n",
    "    roic_pretty[roic_pretty.Symbol == lookup_symbol]\\\n",
    "    .sort_values('StartDate', ascending=False)\\\n",
    "    [['Sales','EBIT', 'EBIT_ROIC', 'OCF', 'OCF_ROIC','ROA',\n",
    "    'CurrAssets','Cash','LT_Debt','ActPay','NetFixed', 'TangibleCapital']]"
   ]
  },
  {
   "cell_type": "markdown",
   "metadata": {},
   "source": [
    "<a id='R&D'></a>"
   ]
  },
  {
   "cell_type": "markdown",
   "metadata": {},
   "source": [
    "#### R&D Focused"
   ]
  },
  {
   "cell_type": "code",
   "execution_count": null,
   "metadata": {
    "scrolled": false
   },
   "outputs": [],
   "source": [
    "#### R&D Focused\n",
    "\n",
    "### write a for loop for showing a list of companies at once\n",
    "### just loop through a list of companies\n",
    "\n",
    "for lookup_symbol in (list_of_symbols):\n",
    "    roic_pretty[roic_pretty.Symbol == lookup_symbol]\\\n",
    "    .sort_values('StartDate', ascending=False)\\\n",
    "    [['Sales', 'OCF', 'OCF_ROIC', 'OCF_RD','OCF_RD_ROIC', 'RD_Cap'\n",
    "    'CurrAssets','Cash','LT_Debt','ActPay','NetFixed', 'TangibleCapital']]"
   ]
  },
  {
   "cell_type": "markdown",
   "metadata": {},
   "source": [
    "<a id=\"Plotting\"></a>"
   ]
  },
  {
   "cell_type": "markdown",
   "metadata": {},
   "source": [
    "### Plotting"
   ]
  },
  {
   "cell_type": "code",
   "execution_count": null,
   "metadata": {},
   "outputs": [],
   "source": []
  },
  {
   "cell_type": "code",
   "execution_count": null,
   "metadata": {},
   "outputs": [],
   "source": [
    "def create_delta_plot(orig_df, symbol=''):\n",
    "    plotdf = orig_df[orig_df.Symbol == symbol]\\\n",
    "            .sort_values('StartDate', ascending=True)\\\n",
    "            [['StartDate','Symbol','OCF', 'OCFGrowth1year', 'OCF_ROIC', 'OCF_ROIC_Delta', 'OCF_ROIC_rel', \n",
    "              'TangibleCapital', 'Capital_Growth']]\n",
    "\n",
    "    plotdf['StartDate'] = pd.to_datetime(plotdf.StartDate)\n",
    "    plotdf['year'] = plotdf.StartDate.dt.year\n",
    "    plotdf['color'] = np.where(plotdf['OCF_ROIC_rel']>=0, plot_settings.color_list[0], plot_settings.color_list[1])\n",
    "    \n",
    "    fig = make_subplots(rows=3, cols=1,\n",
    "                       shared_xaxes=True,\n",
    "                       vertical_spacing=0.12,\n",
    "                       specs=[[{}], \n",
    "                             [{'rowspan':2}],\n",
    "                             [None]])\n",
    "\n",
    "    # top line graph\n",
    "    fig.add_trace(go.Scatter(x=plotdf['year'], \n",
    "                             y=plotdf['OCF_ROIC'],\n",
    "                             line=dict(color=plot_settings.color_list[2]),\n",
    "                             marker=dict(size=10, \n",
    "    #                                      color='rgba(134,134,134,.2)',\n",
    "                                         color=\"#ffffff\",\n",
    "                                         line=dict(width=2.5,\n",
    "                                                   color=plot_settings.color_list[2]))), \n",
    "                  row=1, col=1)\n",
    "\n",
    "    # bottom bar plot\n",
    "    fig.add_trace(go.Bar(x=plotdf['year'], \n",
    "                         y=plotdf['OCF_ROIC_rel'],\n",
    "                         marker_color=plotdf['color'],\n",
    "                         opacity=.8,\n",
    "                         text=plotdf['OCF_ROIC_rel'],\n",
    "                         textposition='inside',\n",
    "                         texttemplate='%{text:,.0%}',\n",
    "                         textfont=dict(size=11)), \n",
    "                  row=2, col=1)\n",
    "\n",
    "    fig.update_layout(template=plot_settings.dockstreet_template,\n",
    "                      showlegend=False,\n",
    "                      uniformtext_minsize=8, \n",
    "                      uniformtext_mode='hide',\n",
    "                      title=dict(text=f'<b>{symbol} Annual ' + '<span style=\"color:#868686;\">OCF ROIC</span>' + \\\n",
    "                                 ' values and YoY changes</b>',\n",
    "                                 font_size=22,\n",
    "                                 x=0.04,\n",
    "                                 y=0.98),\n",
    "                      font_family=\"Avenir\",\n",
    "                      font_color=\"#4c4c4c\",\n",
    "                      font_size=14)\n",
    "\n",
    "    # -------\n",
    "    # FORMAT Y-AXIS RANGE FOR TOP HALF\n",
    "    topy_min = min(plotdf['OCF_ROIC'])-.2\n",
    "    topy_max = max(plotdf['OCF_ROIC'])+.2\n",
    "    \n",
    "#     topy_min_rnd, topy_max_rnd, tickstep, tickvals = ytick_setup(topy_min, topy_max)\n",
    "    \n",
    "#     fig.update_yaxes(range=[topy_min_rnd, topy_max_rnd],\n",
    "# #                      nticks=3,\n",
    "# #                      tickmode='array',\n",
    "# #                      tickvals=tickvals,\n",
    "#                      tickmode='linear',\n",
    "#                      tick0=topy_min_rnd,\n",
    "#                      dtick=tickstep/2,\n",
    "#                      ticklabelstep=2,\n",
    "#                      row=1, col=1)\n",
    "    \n",
    "    likely_int = int(math.ceil(((topy_max - topy_min)/4 + .125) / .25)) * .25\n",
    "    likely_int = round(((topy_max - topy_min)/4 + .125) / .25) * .25\n",
    "    likely_tick_cnt = round((topy_max - topy_min)/likely_int) + 1\n",
    "\n",
    "    if likely_tick_cnt <= 4:\n",
    "        dtick = likely_int/2\n",
    "        ticklabelstep = 2\n",
    "        tick0 = math.floor((topy_min + .2) / (likely_int/2)) * (likely_int/2)\n",
    "    else:\n",
    "        dtick = likely_int\n",
    "        ticklabelstep = 1\n",
    "        \n",
    "    fig.update_yaxes(range=[topy_min, topy_max],\n",
    "                 dtick=dtick,\n",
    "                 ticklabelstep=ticklabelstep,\n",
    "#                  tick0 = tick0,\n",
    "                 row=1, col=1)\n",
    "\n",
    "    # -------\n",
    "    # FORMAT Y-AXIS RANGE FOR BOTTOM HALF\n",
    "    boty_min = min(plotdf['OCF_ROIC_rel'])\n",
    "    boty_max = max(plotdf['OCF_ROIC_rel'])#+.055\n",
    "    \n",
    "    # if min value is a negative, extend y axis to 10% lower than min value, otherwise will start at 0%\n",
    "    if boty_min < 0:\n",
    "        boty_min = boty_min + (boty_min*.05)\n",
    "    \n",
    "    # add 7% of max value to yaxis range\n",
    "    boty_max = boty_max + (boty_max*.07)\n",
    "\n",
    "    fig.update_yaxes(range=[boty_min, boty_max],\n",
    "                     row=2, col=1)\n",
    "    \n",
    "    # -------    \n",
    "    fig.update_yaxes(tickformat=\",.0%\")\n",
    "\n",
    "    fig.update_xaxes(showgrid=False, \n",
    "                     row=1, col=1)\n",
    "    fig.update_xaxes(type='category')\n",
    "\n",
    "    fig.add_annotation(x=-.35, \n",
    "                       y=topy_max, #1.7, \n",
    "                       xref='x', \n",
    "                       yref='y', \n",
    "                       xanchor='left', \n",
    "                       yanchor='bottom',\n",
    "                       align='left',\n",
    "                       text='<b>Annual ' + '<span style=\"color:#868686;\">OCF ROIC</span>' + \\\n",
    "                       ' values</b>',\n",
    "                       showarrow=False, \n",
    "                       font_size=14, \n",
    "                       col=1, row=1)\n",
    "\n",
    "    fig.add_annotation(x=-.35, \n",
    "                       y= boty_max, \n",
    "                       xref='x', \n",
    "                       yref='y', \n",
    "                       xanchor='left', \n",
    "                       yanchor='bottom',\n",
    "                       align='left',\n",
    "                       text='<b>Annual ' + '<span style=\"color:#0173c2;\">positive</span>' + ' and ' + \\\n",
    "                       '<span style=\"color:#cd534c;\">negative</span>' + ' YoY % changes in OCF ROIC</b>',\n",
    "                       showarrow=False, \n",
    "                       font_size=14, \n",
    "                       col=1, row=2)\n",
    "\n",
    "    fig.update_layout(height=630)\n",
    "\n",
    "    fig.show()"
   ]
  },
  {
   "cell_type": "code",
   "execution_count": null,
   "metadata": {},
   "outputs": [],
   "source": [
    "def plotting(symbol_instance):\n",
    "    \n",
    "    plotdf = roic_with_deltas[roic_with_deltas.Symbol == symbol_instance]\\\n",
    "        .sort_values('StartDate', ascending=True)\\\n",
    "        [['StartDate','Symbol','OCF', 'OCFGrowth1year', 'OCF_ROIC', 'OCF_ROIC_Delta', 'OCF_ROIC_rel', \n",
    "          'TangibleCapital', 'Capital_Growth']]\n",
    "\n",
    "    plotdf['StartDate'] = pd.to_datetime(plotdf.StartDate)\n",
    "    plotdf['year'] = plotdf.StartDate.dt.year\n",
    "    plotdf['color'] = np.where(plotdf['OCF_ROIC_rel']>=0, plot_settings.color_list[0], plot_settings.color_list[1])\n",
    "    \n",
    "    fig = make_subplots(rows=3, cols=1,\n",
    "                   shared_xaxes=True,\n",
    "                   vertical_spacing=0.1,\n",
    "                   specs=[[{}], \n",
    "                         [{'rowspan':2}],\n",
    "                         [None]])\n",
    "\n",
    "    # top line graph\n",
    "    fig.add_trace(go.Scatter(x=plotdf['year'], \n",
    "                         y=plotdf['OCF_ROIC'],\n",
    "                         line=dict(color=plot_settings.color_list[2]),\n",
    "                         marker=dict(size=10, \n",
    "#                                      color='rgba(134,134,134,.2)',\n",
    "                                     color=\"#ffffff\",\n",
    "                                     line=dict(width=2.5,\n",
    "                                               color=plot_settings.color_list[2]))), \n",
    "              row=1, col=1)\n",
    "\n",
    "    # bottom bar plot\n",
    "    fig.add_trace(go.Bar(x=plotdf['year'], \n",
    "                     y=plotdf['OCF_ROIC_rel'],\n",
    "                     marker_color=plotdf['color'],\n",
    "                     opacity=.8,\n",
    "                     text=plotdf['OCF_ROIC_rel'],\n",
    "                     textposition='inside',\n",
    "                     texttemplate='%{text:,.0%}',\n",
    "                     textfont=dict(size=11)), \n",
    "              row=2, col=1)\n",
    "\n",
    "    fig.update_layout(template=plot_settings.dockstreet_template,\n",
    "                  showlegend=False,\n",
    "                  uniformtext_minsize=8, \n",
    "                  uniformtext_mode='hide',\n",
    "                  title=dict(text=f'<b>{symbol_instance} : Annual ' + '<span style=\"color:#868686;\">OCF ROIC</span>' + \\\n",
    "                             ' values and YoY changes</b>',\n",
    "                             font_size=22,\n",
    "                             x=0.04),\n",
    "                  font_family=\"Avenir\",\n",
    "                  font_color=\"#4c4c4c\",\n",
    "                  font_size=14)\n",
    "\n",
    "    fig.update_yaxes(tickformat=\",.0%\")\n",
    "\n",
    "    topy_min = min(plotdf['OCF_ROIC'])-.2\n",
    "    topy_max = max(plotdf['OCF_ROIC'])+.2\n",
    "\n",
    "    likely_int = int(math.ceil(((topy_max - topy_min)/4 + .125) / .25)) * .25\n",
    "    likely_int = round(((topy_max - topy_min)/4 + .125) / .25) * .25\n",
    "    likely_tick_cnt = round((topy_max - topy_min)/likely_int) + 1\n",
    "\n",
    "    if likely_tick_cnt <= 4:\n",
    "        dtick = likely_int/2\n",
    "        ticklabelstep = 2\n",
    "        tick0 = math.floor((topy_min + .2) / (likely_int/2)) * (likely_int/2)\n",
    "    else:\n",
    "        dtick = likely_int\n",
    "        ticklabelstep = 1\n",
    "\n",
    "    boty_min = min(plotdf['OCF_ROIC_rel'])-.1\n",
    "    boty_max = max(plotdf['OCF_ROIC_rel'])+.1\n",
    "\n",
    "\n",
    "    fig.update_yaxes(range=[topy_min, topy_max],\n",
    "                     dtick=dtick,\n",
    "                     ticklabelstep=ticklabelstep,\n",
    "    #                  tick0 = tick0,\n",
    "                     row=1, col=1)\n",
    "    fig.update_yaxes(range=[boty_min, boty_max+(boty_max*.1)],\n",
    "                     row=2, col=1)\n",
    "\n",
    "    fig.update_xaxes(showgrid=False, \n",
    "                     row=1, col=1)\n",
    "    fig.update_xaxes(type='category')\n",
    "\n",
    "    fig.add_annotation(x=-.35, \n",
    "                       y=topy_max, #1.7, \n",
    "                       xref='x', \n",
    "                       yref='y', \n",
    "                       xanchor='left', \n",
    "                       align='left',\n",
    "                       text='<b>Annual ' + '<span style=\"color:#868686;\">OCF ROIC</span>' + \\\n",
    "                       ' values</b>',\n",
    "                       showarrow=False, \n",
    "                       font_size=14, \n",
    "                       col=1, row=1)\n",
    "\n",
    "    fig.add_annotation(x=-.35, \n",
    "                       y= boty_max+(boty_max*.1), \n",
    "                       xref='x', \n",
    "                       yref='y', \n",
    "                       xanchor='left', \n",
    "                       align='left',\n",
    "                       text='<b>Annual ' + '<span style=\"color:#0173c2;\">positive</span>' + ' and ' + \\\n",
    "                       '<span style=\"color:#cd534c;\">negative</span>' + ' YoY % changes in OCF ROIC</b>',\n",
    "                       showarrow=False, \n",
    "                       font_size=14, \n",
    "                       col=1, row=2)\n",
    "\n",
    "    fig.update_layout(height=600)\n",
    "\n",
    "    fig.show()\n",
    "    fig.write_image(f\"{symbol_instance}.pdf\")"
   ]
  },
  {
   "cell_type": "code",
   "execution_count": null,
   "metadata": {},
   "outputs": [],
   "source": [
    "# list_of_symbols = ['AMZN-US','MA-US','V-US','MCO-US','NVDA-US','CDNS-US','DPZ-US',\n",
    "# 'MSCI-US','GOOG-US','BRK.B-US','MSFT-US','SPGI-US','MNST-US','AAPL-US','FDS-US',\n",
    "# 'BKNG-US','ANSS-US','ADBE-US','ETSY-US','PYPL-US','ISRG-US','NOW-US',\n",
    "# 'SNPS-US','REGN-US','CRM-US','TSLA-US','SHOP-US',]"
   ]
  },
  {
   "cell_type": "code",
   "execution_count": null,
   "metadata": {},
   "outputs": [],
   "source": [
    "list_of_symbols = ['NET-US', 'TSLA-US','CRWD-US','TTD-US','UPWK-US','APPN-US','PINS-US',\n",
    "                   'ROKU-US','FSLY-US','SFIX-US','NFLX-US']"
   ]
  },
  {
   "cell_type": "code",
   "execution_count": null,
   "metadata": {
    "scrolled": false
   },
   "outputs": [],
   "source": [
    "### loop \n",
    "\n",
    "for holding in list_of_symbols:\n",
    "    create_delta_plot(roic_with_deltas, symbol=holding)"
   ]
  },
  {
   "cell_type": "code",
   "execution_count": null,
   "metadata": {},
   "outputs": [],
   "source": [
    "list_of_symbols = ['KO-US','PG-US','KMB-US','GIS-US','CL-US','K-US','CPB-US','KHC-US',\n",
    "                  'SJM-US','CAG-US','CLX-US']"
   ]
  },
  {
   "cell_type": "code",
   "execution_count": null,
   "metadata": {
    "scrolled": false
   },
   "outputs": [],
   "source": [
    "for holding in list_of_symbols:\n",
    "    plotting(holding)"
   ]
  },
  {
   "cell_type": "code",
   "execution_count": null,
   "metadata": {},
   "outputs": [],
   "source": []
  },
  {
   "cell_type": "markdown",
   "metadata": {},
   "source": [
    "## Summary plot with sorted list"
   ]
  },
  {
   "cell_type": "code",
   "execution_count": null,
   "metadata": {},
   "outputs": [],
   "source": [
    "# summary - sorted list\n",
    "# chgsort = pd.read_csv('/Users/Evan/Downloads/list_of_ten_2020.csv', na_values=['#VALUE!', '#DIV/0!', '#SPILL!'])"
   ]
  },
  {
   "cell_type": "code",
   "execution_count": null,
   "metadata": {},
   "outputs": [],
   "source": [
    "# year_choice = 2020"
   ]
  },
  {
   "cell_type": "code",
   "execution_count": null,
   "metadata": {},
   "outputs": [],
   "source": [
    "roic_with_deltas['StartDate'] = pd.to_datetime(roic_with_deltas['StartDate'])\n",
    "plotdfsum = roic_with_deltas[roic_with_deltas['StartDate']==datetime.datetime(year_choice,12,31)]\n",
    "plotdfsum = plotdfsum[(plotdfsum.FCF_RD_ROIC>0.8) & (plotdfsum.MarketCap>7000)\\\n",
    "                     & (plotdfsum.EBITMargin>.05) & (plotdfsum.ROA>0)]\n",
    "plotdfsum = plotdfsum.sort_values(by='EBIT_ROIC_rel', ascending=False)\n",
    "plotdfsum['relrank'] = plotdfsum['EBIT_ROIC_rel'].rank(axis=0, ascending=False)\n",
    "plotdfsum = plotdfsum[['StartDate','Symbol','Company_Name','Total_Return','FCF_RD_ROIC','EBIT_ROIC_rel','relrank']]"
   ]
  },
  {
   "cell_type": "code",
   "execution_count": null,
   "metadata": {
    "scrolled": false
   },
   "outputs": [],
   "source": [
    "summ = go.Figure()\n",
    "\n",
    "summ.add_trace(go.Bar(x=chgsort['FCF_RD_ROIC'],\n",
    "                      y=chgsort['Symbol'],\n",
    "                      name='ROIC',\n",
    "                      orientation='h',\n",
    "                      width=0.38,\n",
    "                      marker_color='rgba(205,83,76,0.5)',#'rgba(134,134,134,0.5)',#plot_settings.color_list[0],\n",
    "                      showlegend=True,\n",
    "                      legendgroup='roic'))\n",
    "\n",
    "summ.add_trace(go.Scatter(x=chgsort['EBIT_ROIC_rel'], \n",
    "                          y=chgsort['Symbol'],\n",
    "                          name='Chg in ROIC',\n",
    "                          marker=dict(size=17,\n",
    "                                      color='rgba(1,115,194,0.9)',#plot_settings.color_list[0],\n",
    "                                      ),\n",
    "                          mode='markers',\n",
    "                          showlegend=True,\n",
    "                          legendgroup='chg'))\n",
    "\n",
    "summ.add_trace(go.Bar(x=chgsort['EBIT_ROIC_rel'],\n",
    "                      y=chgsort['Symbol'],\n",
    "                      orientation='h',\n",
    "                      width=.07,\n",
    "                      marker_color='rgba(1,115,194,0.6)',#plot_settings.color_list[0],\n",
    "                      showlegend=False,\n",
    "                      legendgroup='chg'))\n",
    "\n",
    "summ.update_yaxes(showgrid=False,\n",
    "                 autorange='reversed',)\n",
    "summ.update_xaxes(zeroline=False, \n",
    "                  tickformat=\",.0%\")\n",
    "\n",
    "summ.update_layout(template=plot_settings.dockstreet_template,\n",
    "                   barmode='overlay',\n",
    "                   legend=dict(orientation='h', \n",
    "                               y=1.0, \n",
    "                               x=.0, \n",
    "                               xanchor='left',\n",
    "                               yanchor='bottom',\n",
    "                              font=dict(size=12)),\n",
    "                    title=dict(text='<b>2020: ' + \\\n",
    "                                f'<span style=\"color:rgba(205,83,76,0.8);\">ROIC</span>' + \\\n",
    "                                ' and ' + \\\n",
    "                                f'<span style=\"color:{plot_settings.color_list[0]};\">YoY \\u0394 ROIC</span>' + \\\n",
    "                               ' for 10 tickers with highest YoY % changes</b>',\n",
    "                                 font_size=22,\n",
    "                                 x=0.02,\n",
    "                                 y=0.94),\n",
    "                    font_family=\"Avenir\",\n",
    "                    font_color=\"#4c4c4c\",\n",
    "                    font_size=14)\n",
    "\n",
    "summ.show()"
   ]
  },
  {
   "cell_type": "code",
   "execution_count": null,
   "metadata": {
    "scrolled": false
   },
   "outputs": [],
   "source": [
    "summ = go.Figure()\n",
    "\n",
    "summ.add_trace(go.Scatter(x=chgsort['EBIT_ROIC_rel'],\n",
    "                          y=[chgsort['Symbol'], ['\\32']*len(chgsort['Symbol'])],\n",
    "                          name='Chg in ROIC',\n",
    "                          mode='markers',\n",
    "                          marker_size=10,\n",
    "                          marker_color=plot_settings.color_list[0],\n",
    "                          showlegend=True,\n",
    "                          legendgroup='chg'))\n",
    "\n",
    "summ.add_trace(go.Bar(x=chgsort['EBIT_ROIC_rel'],\n",
    "                      y=[chgsort['Symbol'], ['\\32']*len(chgsort['Symbol'])],\n",
    "                      name='Chg in ROIC',\n",
    "                      orientation='h',\n",
    "                      width=.05,\n",
    "                      marker_color='rgba(1,115,194,0.8)',#plot_settings.color_list[0],\n",
    "                      showlegend=False,\n",
    "                      legendgroup='chg'))\n",
    "\n",
    "summ.add_trace(go.Scatter(x=chgsort['FCF_RD_ROIC'],\n",
    "                          y=[chgsort['Symbol'], ['\\32\\32']*len(chgsort['Symbol'])],\n",
    "                          name='ROIC',\n",
    "                          mode='markers',\n",
    "                          marker_size=10,\n",
    "                          marker_color=plot_settings.color_list[1],\n",
    "                          showlegend=True,\n",
    "                          legendgroup='roic'))\n",
    "\n",
    "summ.add_trace(go.Bar(x=chgsort['FCF_RD_ROIC'],\n",
    "                      y=[chgsort['Symbol'], ['\\32\\32']*len(chgsort['Symbol'])],\n",
    "                      name='ROIC',\n",
    "                      orientation='h',\n",
    "                      width=.05,\n",
    "                      marker_color='rgba(205,83,76,0.8)',#plot_settings.color_list[1],\n",
    "                      showlegend=False,\n",
    "                      legendgroup='roic'))\n",
    "\n",
    "summ.update_yaxes(showgrid=False, \n",
    "                  autorange='reversed',\n",
    "                  dividerwidth=0.3,\n",
    "                  dividercolor='rgba(189,189,189,0.5)',#'#cacaca',\n",
    "                  showdividers=True,)\n",
    "\n",
    "summ.update_xaxes(zeroline=False, \n",
    "                  tickformat=\",.0%\")\n",
    "\n",
    "summ.update_layout(template=plot_settings.dockstreet_template,\n",
    "                   height=650,\n",
    "                   legend=dict(orientation='h', \n",
    "                               y=1.0, \n",
    "                               x=.0, \n",
    "                               xanchor='left',\n",
    "                               yanchor='bottom'),\n",
    "                   title=dict(text='<b>2020: Ten tickers with highest ' + f'<span style=\"color:{plot_settings.color_list[0]};\">OCF ROIC</span>' + \\\n",
    "                                 ' values and YoY changes</b>',\n",
    "                                 font_size=22,\n",
    "                                 x=0.04,\n",
    "                                 y=0.98),\n",
    "                   font_family=\"Avenir\",\n",
    "                   font_color=\"#4c4c4c\",\n",
    "                   font_size=14)\n",
    "\n",
    "summ.show()"
   ]
  },
  {
   "cell_type": "code",
   "execution_count": null,
   "metadata": {},
   "outputs": [],
   "source": []
  },
  {
   "cell_type": "markdown",
   "metadata": {},
   "source": [
    "[Jump to Final Output](#Final_Output)<br>\n",
    "[Jump to List of Companies](#List)<br>\n",
    "[R&D Multiple Companies](#R&D)<br>\n",
    "[Plotting](#Plotting)"
   ]
  },
  {
   "cell_type": "code",
   "execution_count": null,
   "metadata": {},
   "outputs": [],
   "source": []
  },
  {
   "cell_type": "code",
   "execution_count": null,
   "metadata": {},
   "outputs": [],
   "source": []
  },
  {
   "cell_type": "code",
   "execution_count": null,
   "metadata": {},
   "outputs": [],
   "source": []
  }
 ],
 "metadata": {
  "kernelspec": {
   "display_name": "Python 3",
   "language": "python",
   "name": "python3"
  },
  "language_info": {
   "codemirror_mode": {
    "name": "ipython",
    "version": 3
   },
   "file_extension": ".py",
   "mimetype": "text/x-python",
   "name": "python",
   "nbconvert_exporter": "python",
   "pygments_lexer": "ipython3",
   "version": "3.9.5"
  }
 },
 "nbformat": 4,
 "nbformat_minor": 2
}
