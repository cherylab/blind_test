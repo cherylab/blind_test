{
 "cells": [
  {
   "cell_type": "code",
   "execution_count": 9,
   "id": "4f4fb2e5",
   "metadata": {},
   "outputs": [],
   "source": [
    "# importing modules\n",
    "import numpy as np\n",
    "import pandas as pd\n",
    "import time\n",
    "import pickle\n",
    "import plotly as plt\n",
    "from plotly.subplots import make_subplots\n",
    "import plotly.graph_objects as go\n",
    "import plotly.express as px\n",
    "import plot_settings\n",
    "import math\n",
    "import pydrive\n",
    "import datetime\n",
    "import random\n",
    "\n",
    "np.set_printoptions(threshold=np.inf)\n",
    "np.random.seed(42)\n",
    "\n",
    "pd.set_option('display.max_rows', 500)"
   ]
  },
  {
   "cell_type": "code",
   "execution_count": 11,
   "id": "df97deed",
   "metadata": {},
   "outputs": [],
   "source": [
    "options = [\"AAPL\", \"MSFT\", \"GOOG\"]\n",
    "order = [x for x in range(1,len(options)+1)]"
   ]
  },
  {
   "cell_type": "code",
   "execution_count": 15,
   "id": "cba444ab",
   "metadata": {},
   "outputs": [],
   "source": [
    "random.shuffle(order)"
   ]
  },
  {
   "cell_type": "code",
   "execution_count": 17,
   "id": "dd65a87a",
   "metadata": {},
   "outputs": [],
   "source": [
    "compOrderDict = {}\n",
    "for i in range(len(options)):\n",
    "    compOrderDict[order[i]] = options[i]"
   ]
  },
  {
   "cell_type": "code",
   "execution_count": 18,
   "id": "4b065701",
   "metadata": {},
   "outputs": [
    {
     "data": {
      "text/plain": [
       "{2: 'AAPL', 3: 'MSFT', 1: 'GOOG'}"
      ]
     },
     "execution_count": 18,
     "metadata": {},
     "output_type": "execute_result"
    }
   ],
   "source": [
    "compOrderDict"
   ]
  },
  {
   "cell_type": "code",
   "execution_count": 20,
   "id": "cff48b3d",
   "metadata": {},
   "outputs": [],
   "source": [
    "options.append('cheryl')"
   ]
  },
  {
   "cell_type": "code",
   "execution_count": 21,
   "id": "54cec427",
   "metadata": {},
   "outputs": [
    {
     "data": {
      "text/plain": [
       "['AAPL', 'MSFT', 'GOOG', 'cheryl']"
      ]
     },
     "execution_count": 21,
     "metadata": {},
     "output_type": "execute_result"
    }
   ],
   "source": [
    "options"
   ]
  },
  {
   "cell_type": "code",
   "execution_count": 23,
   "id": "774e8de1",
   "metadata": {},
   "outputs": [
    {
     "data": {
      "text/plain": [
       "'AAPL, MSFT, GOOG, cheryl'"
      ]
     },
     "execution_count": 23,
     "metadata": {},
     "output_type": "execute_result"
    }
   ],
   "source": [
    "(', ').join(options)"
   ]
  },
  {
   "cell_type": "code",
   "execution_count": 25,
   "id": "2cdc12c0",
   "metadata": {},
   "outputs": [
    {
     "data": {
      "text/plain": [
       "'1'"
      ]
     },
     "execution_count": 25,
     "metadata": {},
     "output_type": "execute_result"
    }
   ],
   "source": [
    "gr = [\"1\"]\n",
    "\n",
    "(', ').join(gr)"
   ]
  },
  {
   "cell_type": "code",
   "execution_count": 26,
   "id": "9bd50b90",
   "metadata": {},
   "outputs": [],
   "source": [
    "grr = []\n",
    "\n",
    "grr.append(str(5))"
   ]
  },
  {
   "cell_type": "code",
   "execution_count": 27,
   "id": "b29662b4",
   "metadata": {},
   "outputs": [
    {
     "data": {
      "text/plain": [
       "['5']"
      ]
     },
     "execution_count": 27,
     "metadata": {},
     "output_type": "execute_result"
    }
   ],
   "source": [
    "grr"
   ]
  },
  {
   "cell_type": "code",
   "execution_count": 28,
   "id": "07ed0470",
   "metadata": {},
   "outputs": [
    {
     "data": {
      "text/plain": [
       "'5'"
      ]
     },
     "execution_count": 28,
     "metadata": {},
     "output_type": "execute_result"
    }
   ],
   "source": [
    "(', ').join(grr)"
   ]
  },
  {
   "cell_type": "code",
   "execution_count": null,
   "id": "2f5421c8",
   "metadata": {},
   "outputs": [],
   "source": []
  }
 ],
 "metadata": {
  "kernelspec": {
   "display_name": "Python 3",
   "language": "python",
   "name": "python3"
  },
  "language_info": {
   "codemirror_mode": {
    "name": "ipython",
    "version": 3
   },
   "file_extension": ".py",
   "mimetype": "text/x-python",
   "name": "python",
   "nbconvert_exporter": "python",
   "pygments_lexer": "ipython3",
   "version": "3.9.5"
  }
 },
 "nbformat": 4,
 "nbformat_minor": 5
}
