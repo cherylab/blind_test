{
 "cells": [
  {
   "cell_type": "code",
   "execution_count": 9,
   "id": "6a74719f",
   "metadata": {},
   "outputs": [],
   "source": [
    "# importing modules\n",
    "import numpy as np\n",
    "import pandas as pd\n",
    "import time\n",
    "import pickle\n",
    "import plotly as plt\n",
    "from plotly.subplots import make_subplots\n",
    "import plotly.graph_objects as go\n",
    "import plotly.express as px\n",
    "import plot_settings\n",
    "import math\n",
    "import pydrive\n",
    "import datetime\n",
    "import random\n",
    "\n",
    "np.set_printoptions(threshold=np.inf)\n",
    "np.random.seed(42)\n",
    "\n",
    "pd.set_option('display.max_rows', 500)"
   ]
  },
  {
   "cell_type": "code",
   "execution_count": 11,
   "id": "7355988e",
   "metadata": {},
   "outputs": [],
   "source": [
    "options = [\"AAPL\", \"MSFT\", \"GOOG\"]\n",
    "order = [x for x in range(1,len(options)+1)]"
   ]
  },
  {
   "cell_type": "code",
   "execution_count": 15,
   "id": "40f7d35f",
   "metadata": {},
   "outputs": [],
   "source": [
    "random.shuffle(order)"
   ]
  },
  {
   "cell_type": "code",
   "execution_count": 17,
   "id": "70be4496",
   "metadata": {},
   "outputs": [],
   "source": [
    "compOrderDict = {}\n",
    "for i in range(len(options)):\n",
    "    compOrderDict[order[i]] = options[i]"
   ]
  },
  {
   "cell_type": "code",
   "execution_count": 18,
   "id": "bb7e670e",
   "metadata": {},
   "outputs": [
    {
     "data": {
      "text/plain": [
       "{2: 'AAPL', 3: 'MSFT', 1: 'GOOG'}"
      ]
     },
     "execution_count": 18,
     "metadata": {},
     "output_type": "execute_result"
    }
   ],
   "source": [
    "compOrderDict"
   ]
  },
  {
   "cell_type": "code",
   "execution_count": 20,
   "id": "89af83a0",
   "metadata": {},
   "outputs": [],
   "source": [
    "options.append('cheryl')"
   ]
  },
  {
   "cell_type": "code",
   "execution_count": 21,
   "id": "e334c3e3",
   "metadata": {},
   "outputs": [
    {
     "data": {
      "text/plain": [
       "['AAPL', 'MSFT', 'GOOG', 'cheryl']"
      ]
     },
     "execution_count": 21,
     "metadata": {},
     "output_type": "execute_result"
    }
   ],
   "source": [
    "options"
   ]
  },
  {
   "cell_type": "code",
   "execution_count": 23,
   "id": "00860797",
   "metadata": {},
   "outputs": [
    {
     "data": {
      "text/plain": [
       "'AAPL, MSFT, GOOG, cheryl'"
      ]
     },
     "execution_count": 23,
     "metadata": {},
     "output_type": "execute_result"
    }
   ],
   "source": [
    "(', ').join(options)"
   ]
  },
  {
   "cell_type": "code",
   "execution_count": 25,
   "id": "76a1ab32",
   "metadata": {},
   "outputs": [
    {
     "data": {
      "text/plain": [
       "'1'"
      ]
     },
     "execution_count": 25,
     "metadata": {},
     "output_type": "execute_result"
    }
   ],
   "source": [
    "gr = [\"1\"]\n",
    "\n",
    "(', ').join(gr)"
   ]
  },
  {
   "cell_type": "code",
   "execution_count": 26,
   "id": "0568cbf9",
   "metadata": {},
   "outputs": [],
   "source": [
    "grr = []\n",
    "\n",
    "grr.append(str(5))"
   ]
  },
  {
   "cell_type": "code",
   "execution_count": 27,
   "id": "e8c80113",
   "metadata": {},
   "outputs": [
    {
     "data": {
      "text/plain": [
       "['5']"
      ]
     },
     "execution_count": 27,
     "metadata": {},
     "output_type": "execute_result"
    }
   ],
   "source": [
    "grr"
   ]
  },
  {
   "cell_type": "code",
   "execution_count": 28,
   "id": "441124d1",
   "metadata": {},
   "outputs": [
    {
     "data": {
      "text/plain": [
       "'5'"
      ]
     },
     "execution_count": 28,
     "metadata": {},
     "output_type": "execute_result"
    }
   ],
   "source": [
    "(', ').join(grr)"
   ]
  },
  {
   "cell_type": "code",
   "execution_count": 29,
   "id": "24995781",
   "metadata": {},
   "outputs": [],
   "source": [
    "mydict = {1:'Cheryl', 2:'Evan', 3:'Baba'}"
   ]
  },
  {
   "cell_type": "code",
   "execution_count": 31,
   "id": "9e3e089b",
   "metadata": {},
   "outputs": [
    {
     "name": "stdout",
     "output_type": "stream",
     "text": [
      "1 Cheryl\n",
      "2 Evan\n",
      "3 Baba\n"
     ]
    }
   ],
   "source": [
    "for (k,v) in mydict.items():\n",
    "    print(k, v)"
   ]
  },
  {
   "cell_type": "code",
   "execution_count": null,
   "id": "abbc15ad",
   "metadata": {},
   "outputs": [],
   "source": []
  }
 ],
 "metadata": {
  "kernelspec": {
   "display_name": "Python 3",
   "language": "python",
   "name": "python3"
  },
  "language_info": {
   "codemirror_mode": {
    "name": "ipython",
    "version": 3
   },
   "file_extension": ".py",
   "mimetype": "text/x-python",
   "name": "python",
   "nbconvert_exporter": "python",
   "pygments_lexer": "ipython3",
   "version": "3.9.5"
  }
 },
 "nbformat": 4,
 "nbformat_minor": 5
}
