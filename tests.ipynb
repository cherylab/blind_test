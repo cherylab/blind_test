{
 "cells": [
  {
   "cell_type": "code",
   "execution_count": 9,
   "id": "aff1ed28",
   "metadata": {},
   "outputs": [],
   "source": [
    "# importing modules\n",
    "import numpy as np\n",
    "import pandas as pd\n",
    "import time\n",
    "import pickle\n",
    "import plotly as plt\n",
    "from plotly.subplots import make_subplots\n",
    "import plotly.graph_objects as go\n",
    "import plotly.express as px\n",
    "import plot_settings\n",
    "import math\n",
    "import pydrive\n",
    "import datetime\n",
    "import random\n",
    "\n",
    "np.set_printoptions(threshold=np.inf)\n",
    "np.random.seed(42)\n",
    "\n",
    "pd.set_option('display.max_rows', 500)"
   ]
  },
  {
   "cell_type": "code",
   "execution_count": 11,
   "id": "1eac6d18",
   "metadata": {},
   "outputs": [],
   "source": [
    "options = [\"AAPL\", \"MSFT\", \"GOOG\"]\n",
    "order = [x for x in range(1,len(options)+1)]"
   ]
  },
  {
   "cell_type": "code",
   "execution_count": 15,
   "id": "1091da8d",
   "metadata": {},
   "outputs": [],
   "source": [
    "random.shuffle(order)"
   ]
  },
  {
   "cell_type": "code",
   "execution_count": 17,
   "id": "bb6a637f",
   "metadata": {},
   "outputs": [],
   "source": [
    "compOrderDict = {}\n",
    "for i in range(len(options)):\n",
    "    compOrderDict[order[i]] = options[i]"
   ]
  },
  {
   "cell_type": "code",
   "execution_count": 18,
   "id": "575d46c1",
   "metadata": {},
   "outputs": [
    {
     "data": {
      "text/plain": [
       "{2: 'AAPL', 3: 'MSFT', 1: 'GOOG'}"
      ]
     },
     "execution_count": 18,
     "metadata": {},
     "output_type": "execute_result"
    }
   ],
   "source": [
    "compOrderDict"
   ]
  },
  {
   "cell_type": "code",
   "execution_count": 20,
   "id": "4da2a1b7",
   "metadata": {},
   "outputs": [],
   "source": [
    "options.append('cheryl')"
   ]
  },
  {
   "cell_type": "code",
   "execution_count": 21,
   "id": "2b269521",
   "metadata": {},
   "outputs": [
    {
     "data": {
      "text/plain": [
       "['AAPL', 'MSFT', 'GOOG', 'cheryl']"
      ]
     },
     "execution_count": 21,
     "metadata": {},
     "output_type": "execute_result"
    }
   ],
   "source": [
    "options"
   ]
  },
  {
   "cell_type": "code",
   "execution_count": null,
   "id": "8416415f",
   "metadata": {},
   "outputs": [],
   "source": []
  }
 ],
 "metadata": {
  "kernelspec": {
   "display_name": "Python 3",
   "language": "python",
   "name": "python3"
  },
  "language_info": {
   "codemirror_mode": {
    "name": "ipython",
    "version": 3
   },
   "file_extension": ".py",
   "mimetype": "text/x-python",
   "name": "python",
   "nbconvert_exporter": "python",
   "pygments_lexer": "ipython3",
   "version": "3.9.5"
  }
 },
 "nbformat": 4,
 "nbformat_minor": 5
}
